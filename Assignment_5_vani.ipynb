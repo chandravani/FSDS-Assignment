{
  "nbformat": 4,
  "nbformat_minor": 0,
  "metadata": {
    "colab": {
      "provenance": []
    },
    "kernelspec": {
      "name": "python3",
      "display_name": "Python 3"
    },
    "language_info": {
      "name": "python"
    }
  },
  "cells": [
    {
      "cell_type": "markdown",
      "source": [
        "1. What does an empty dictionary's code look like?"
      ],
      "metadata": {
        "id": "h1rgx2F_8V2T"
      }
    },
    {
      "cell_type": "code",
      "source": [
        "An empty dictionary's  it does not contain any key and values \n",
        "dict = {}\n"
      ],
      "metadata": {
        "id": "d68KECUb-BIE"
      },
      "execution_count": null,
      "outputs": []
    },
    {
      "cell_type": "markdown",
      "source": [
        "**2**. What is the value of a dictionary value with the key 'foo' and the valule 42?"
      ],
      "metadata": {
        "id": "v-nrCBC9-T6a"
      }
    },
    {
      "cell_type": "code",
      "source": [
        "d = {\"foo\": 42}"
      ],
      "metadata": {
        "id": "QJYHXk2B8c0p"
      },
      "execution_count": null,
      "outputs": []
    },
    {
      "cell_type": "markdown",
      "source": [
        "3. What is the most significant distinction between a dictionary and a list?"
      ],
      "metadata": {
        "id": "gwKUsXDr_0yd"
      }
    },
    {
      "cell_type": "code",
      "source": [
        "\"\"\"\n",
        "Dictionary:\n",
        "Dictionary is created by placing elements in { } as “key”:”value”, each key value pair is separated by commas “,\n",
        "The elements are accessed via key-values.\n",
        "An items in a dict is unordered\n",
        "\n",
        "List:\n",
        "List is created by placing elements in [ ] separated by commas “, “.\n",
        "The elements are accessed via indices.\n",
        "An items in a list is ordered\n",
        "\"\"\""
      ],
      "metadata": {
        "id": "7IasbqBdFwl9",
        "colab": {
          "base_uri": "https://localhost:8080/",
          "height": 54
        },
        "outputId": "44d9b49b-f6a1-48fd-b417-373c32343818"
      },
      "execution_count": 5,
      "outputs": [
        {
          "output_type": "execute_result",
          "data": {
            "text/plain": [
              "'\\nDictionary:\\nDictionary is created by placing elements in { } as “key”:”value”, each key value pair is separated by commas “,\\nThe elements are accessed via key-values.\\nAn items in a dict is unordered\\n\\nList:\\nList is created by placing elements in [ ] separated by commas “, “.\\nThe elements are accessed via indices.\\nAn items in a list is ordered\\n'"
            ],
            "application/vnd.google.colaboratory.intrinsic+json": {
              "type": "string"
            }
          },
          "metadata": {},
          "execution_count": 5
        }
      ]
    },
    {
      "cell_type": "markdown",
      "source": [
        "4. What happens if you try to access spam['foo'] if spam is {'bar': 100}?"
      ],
      "metadata": {
        "id": "OlW5Ry7ABYfk"
      }
    },
    {
      "cell_type": "code",
      "source": [
        "spam = {'bar': 100} # this is dictionary \n",
        "spam['foo']"
      ],
      "metadata": {
        "colab": {
          "base_uri": "https://localhost:8080/",
          "height": 183
        },
        "id": "CKzsRtiKBusV",
        "outputId": "5a510133-89cc-4840-d965-1168233e9001"
      },
      "execution_count": null,
      "outputs": [
        {
          "output_type": "error",
          "ename": "KeyError",
          "evalue": "ignored",
          "traceback": [
            "\u001b[0;31m---------------------------------------------------------------------------\u001b[0m",
            "\u001b[0;31mKeyError\u001b[0m                                  Traceback (most recent call last)",
            "\u001b[0;32m<ipython-input-14-2fab3fa5c43b>\u001b[0m in \u001b[0;36m<module>\u001b[0;34m\u001b[0m\n\u001b[1;32m      1\u001b[0m \u001b[0mspam\u001b[0m \u001b[0;34m=\u001b[0m \u001b[0;34m{\u001b[0m\u001b[0;34m'bar'\u001b[0m\u001b[0;34m:\u001b[0m \u001b[0;36m100\u001b[0m\u001b[0;34m}\u001b[0m \u001b[0;31m# this is dictionary\u001b[0m\u001b[0;34m\u001b[0m\u001b[0;34m\u001b[0m\u001b[0m\n\u001b[0;32m----> 2\u001b[0;31m \u001b[0mspam\u001b[0m\u001b[0;34m[\u001b[0m\u001b[0;34m'foo'\u001b[0m\u001b[0;34m]\u001b[0m\u001b[0;34m\u001b[0m\u001b[0;34m\u001b[0m\u001b[0m\n\u001b[0m",
            "\u001b[0;31mKeyError\u001b[0m: 'foo'"
          ]
        }
      ]
    },
    {
      "cell_type": "code",
      "execution_count": null,
      "metadata": {
        "id": "vR5gNOgd8IA7"
      },
      "outputs": [],
      "source": [
        "# if i try to access spam['foo'] its  happend keyerror "
      ]
    },
    {
      "cell_type": "markdown",
      "source": [
        "5. If a dictionary is stored in spam, what is the difference between the expression 'cat' in spam and 'cat' in spam.key()?\n"
      ],
      "metadata": {
        "id": "z8LiVbyzC-xK"
      }
    },
    {
      "cell_type": "code",
      "source": [
        "spam ={'cat':230}\n",
        "'cat' in spam\n"
      ],
      "metadata": {
        "id": "55WPVpulCszS",
        "colab": {
          "base_uri": "https://localhost:8080/"
        },
        "outputId": "e2095b46-a00c-466a-dea2-1e37ea62ae35"
      },
      "execution_count": 7,
      "outputs": [
        {
          "output_type": "execute_result",
          "data": {
            "text/plain": [
              "True"
            ]
          },
          "metadata": {},
          "execution_count": 7
        }
      ]
    },
    {
      "cell_type": "code",
      "source": [
        "'cat' in spam.keys()"
      ],
      "metadata": {
        "colab": {
          "base_uri": "https://localhost:8080/"
        },
        "id": "c7zbwe2NBcTl",
        "outputId": "dc65cc0b-ec25-4261-c1f8-630f69e77d2d"
      },
      "execution_count": 8,
      "outputs": [
        {
          "output_type": "execute_result",
          "data": {
            "text/plain": [
              "True"
            ]
          },
          "metadata": {},
          "execution_count": 8
        }
      ]
    },
    {
      "cell_type": "markdown",
      "source": [
        "There is no difference, \n",
        "the expression 'cat' in spam and 'cat' in spam.key() checks whether 'cat' is a key in spam and the ans is true. So No Difference."
      ],
      "metadata": {
        "id": "3_gQ2Y4LBULa"
      }
    },
    {
      "cell_type": "markdown",
      "source": [
        "6. If a dictionary is stored in spam, what is the difference between the expressions 'cat' in spam and 'cat' in spam.values()?\n",
        "\n"
      ],
      "metadata": {
        "id": "rIfGlstLLD40"
      }
    },
    {
      "cell_type": "code",
      "source": [
        "spam ={'cat':230}\n",
        "'cat' in spam"
      ],
      "metadata": {
        "colab": {
          "base_uri": "https://localhost:8080/"
        },
        "id": "DdreLkjqBhkX",
        "outputId": "9a822f17-ed07-4473-e587-fc895db89c0a"
      },
      "execution_count": 9,
      "outputs": [
        {
          "output_type": "execute_result",
          "data": {
            "text/plain": [
              "True"
            ]
          },
          "metadata": {},
          "execution_count": 9
        }
      ]
    },
    {
      "cell_type": "code",
      "source": [
        "'cat' in spam.values()"
      ],
      "metadata": {
        "colab": {
          "base_uri": "https://localhost:8080/"
        },
        "id": "m3Wl5TSpBjlW",
        "outputId": "4944ebde-7aeb-4476-c6a7-ddfaefce554f"
      },
      "execution_count": 10,
      "outputs": [
        {
          "output_type": "execute_result",
          "data": {
            "text/plain": [
              "False"
            ]
          },
          "metadata": {},
          "execution_count": 10
        }
      ]
    },
    {
      "cell_type": "code",
      "source": [
        "\"\"\"\n",
        "There is difference.\n",
        "'cat' in spam checks whether cat in spam dict. and 'cat' in spam.values() checks whether there is a value \"cat\" is present. \n",
        "\"\"\""
      ],
      "metadata": {
        "id": "Y9hLgq41Ay_A"
      },
      "execution_count": null,
      "outputs": []
    },
    {
      "cell_type": "markdown",
      "source": [
        "7. What is a shortcut for the following code?\n",
        "\n",
        "if 'color' not in spam:\n",
        "\n",
        "spam['color'] = 'black'\n",
        "\n"
      ],
      "metadata": {
        "id": "6UHjwjndLPr3"
      }
    },
    {
      "cell_type": "code",
      "source": [
        "\"\"\"\n",
        "We can use setdefault() method to do this in one line of code. The first argument passed to the method is the key to check for, \n",
        "and the second argument is the value to set at that key if the key does not exist.\n",
        "spam.setdefault('color','black')\n",
        "\"\"\"\n",
        "spam={\"name\":\"Vani\", \"Age\":25}\n",
        "print(spam)\n",
        "spam.setdefault('color','black')\n",
        "print(spam)"
      ],
      "metadata": {
        "id": "XEfeOAFBDwNT",
        "colab": {
          "base_uri": "https://localhost:8080/"
        },
        "outputId": "dbd4811a-07b6-4af8-f3e2-ab3f2312a885"
      },
      "execution_count": 13,
      "outputs": [
        {
          "output_type": "stream",
          "name": "stdout",
          "text": [
            "{'name': 'Vani', 'Age': 25}\n",
            "{'name': 'Vani', 'Age': 25, 'color': 'black'}\n"
          ]
        }
      ]
    },
    {
      "cell_type": "markdown",
      "source": [
        "8. How do you \"pretty print\" dictionary values using which module and function?\n",
        "\n"
      ],
      "metadata": {
        "id": "Gm2EQwVSLdJ0"
      }
    },
    {
      "cell_type": "code",
      "source": [
        "\"\"\"\n",
        "The module is pprint.\n",
        "The build in functions are pprint.pprint().\n",
        "pprint is helpful when you want a cleaner display of the items in a dictionary than what print() provides\n",
        "\"\"\""
      ],
      "metadata": {
        "id": "O1ZUOyQtD9cV",
        "colab": {
          "base_uri": "https://localhost:8080/",
          "height": 36
        },
        "outputId": "c63d8f1b-4543-4a40-933b-5bbc5df88b6d"
      },
      "execution_count": 14,
      "outputs": [
        {
          "output_type": "execute_result",
          "data": {
            "text/plain": [
              "'\\nThe module is pprint.\\nThe build in functions are pprint.pprint().\\npprint is helpful when you want a cleaner display of the items in a dictionary than what print() provides\\n'"
            ],
            "application/vnd.google.colaboratory.intrinsic+json": {
              "type": "string"
            }
          },
          "metadata": {},
          "execution_count": 14
        }
      ]
    },
    {
      "cell_type": "code",
      "source": [
        "#Reference: https://automatetheboringstuff.com/chapter5/"
      ],
      "metadata": {
        "id": "C4rqsOuxIIZH"
      },
      "execution_count": null,
      "outputs": []
    }
  ]
}