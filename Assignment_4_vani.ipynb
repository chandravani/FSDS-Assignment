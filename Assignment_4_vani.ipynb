{
  "nbformat": 4,
  "nbformat_minor": 0,
  "metadata": {
    "colab": {
      "provenance": []
    },
    "kernelspec": {
      "name": "python3",
      "display_name": "Python 3"
    },
    "language_info": {
      "name": "python"
    }
  },
  "cells": [
    {
      "cell_type": "markdown",
      "source": [
        "1. What exactly is [ ]?"
      ],
      "metadata": {
        "id": "gPufgQTI0_oD"
      }
    },
    {
      "cell_type": "code",
      "source": [
        "[] = square brackets.\n",
        "list is using square brackets.\n",
        "empty list"
      ],
      "metadata": {
        "id": "NQOlFShi1G-L"
      },
      "execution_count": null,
      "outputs": []
    },
    {
      "cell_type": "markdown",
      "source": [
        "2. In a list of values stored in a variable called \n",
        "spam, how would you assign the value \"hello\" \n",
        "as the third value? (Assume [2, 4, 6, 8, 10] are in spam.)\n"
      ],
      "metadata": {
        "id": "DKMr8fBf1F3B"
      }
    },
    {
      "cell_type": "code",
      "execution_count": 1,
      "metadata": {
        "id": "uOLit75sxHc1",
        "colab": {
          "base_uri": "https://localhost:8080/"
        },
        "outputId": "1b88236c-b286-482a-b31e-c3fc9db6f1b9"
      },
      "outputs": [
        {
          "output_type": "stream",
          "name": "stdout",
          "text": [
            "[2, 4, 'hello', 8, 10]\n"
          ]
        }
      ],
      "source": [
        "spam = [2, 4, 6, 8, 10]\n",
        "spam[2]= \"hello\"\n",
        "print(spam)\n"
      ]
    },
    {
      "cell_type": "code",
      "source": [
        "spam"
      ],
      "metadata": {
        "colab": {
          "base_uri": "https://localhost:8080/"
        },
        "id": "V-HQeg5D5miQ",
        "outputId": "de904484-cf04-46e6-f1d9-bfa1b57cf515"
      },
      "execution_count": 2,
      "outputs": [
        {
          "output_type": "execute_result",
          "data": {
            "text/plain": [
              "[2, 4, 'hello', 8, 10]"
            ]
          },
          "metadata": {},
          "execution_count": 2
        }
      ]
    },
    {
      "cell_type": "code",
      "source": [
        "spam = [2, 4, 6, 8, 10]\n",
        "spam.insert(2, \"hello\")\n",
        "print(spam)"
      ],
      "metadata": {
        "colab": {
          "base_uri": "https://localhost:8080/"
        },
        "id": "-qbvBpuLtXFu",
        "outputId": "33d22bd2-6188-4782-9859-286d834bdd1f"
      },
      "execution_count": 3,
      "outputs": [
        {
          "output_type": "stream",
          "name": "stdout",
          "text": [
            "[2, 4, 'hello', 6, 8, 10]\n"
          ]
        }
      ]
    },
    {
      "cell_type": "markdown",
      "source": [
        "Let's pretend the spam includes the list ['a', 'b', 'c', 'd'] for the next queries.\n",
        "3. What is the value of spam[int(int('3'*2)/11)]?"
      ],
      "metadata": {
        "id": "Di_cqv_Q5__G"
      }
    },
    {
      "cell_type": "code",
      "source": [
        "spam = ['a', 'b', 'c', 'd']\n"
      ],
      "metadata": {
        "id": "cTPf-m7h5wDm"
      },
      "execution_count": 5,
      "outputs": []
    },
    {
      "cell_type": "code",
      "source": [
        "[int(int('3'*2)/11)] #spam[int(33/11)] = spam[3]"
      ],
      "metadata": {
        "colab": {
          "base_uri": "https://localhost:8080/"
        },
        "id": "BKTMSEE38KCm",
        "outputId": "46006c40-5f50-4571-f96b-4cf8edd0a5d0"
      },
      "execution_count": 6,
      "outputs": [
        {
          "output_type": "execute_result",
          "data": {
            "text/plain": [
              "[3]"
            ]
          },
          "metadata": {},
          "execution_count": 6
        }
      ]
    },
    {
      "cell_type": "code",
      "source": [
        "spam[3]#index of [3] in spam is 'd'"
      ],
      "metadata": {
        "id": "5Q4oc2Px8RjK",
        "colab": {
          "base_uri": "https://localhost:8080/",
          "height": 35
        },
        "outputId": "a23781b7-b07c-4ccf-e86d-bafb80c13333"
      },
      "execution_count": 7,
      "outputs": [
        {
          "output_type": "execute_result",
          "data": {
            "text/plain": [
              "'d'"
            ],
            "application/vnd.google.colaboratory.intrinsic+json": {
              "type": "string"
            }
          },
          "metadata": {},
          "execution_count": 7
        }
      ]
    },
    {
      "cell_type": "markdown",
      "source": [
        "4. What is the value of spam[-1]?"
      ],
      "metadata": {
        "id": "A86gVSPm95Au"
      }
    },
    {
      "cell_type": "code",
      "source": [
        "spam = ['a', 'b', 'c', 'd']\n",
        "spam[-1] #negative index (reverse order)"
      ],
      "metadata": {
        "colab": {
          "base_uri": "https://localhost:8080/",
          "height": 35
        },
        "id": "jprxylUU-GxN",
        "outputId": "a90eba0f-3795-4c62-b25a-49b39035d57a"
      },
      "execution_count": null,
      "outputs": [
        {
          "output_type": "execute_result",
          "data": {
            "text/plain": [
              "'d'"
            ],
            "application/vnd.google.colaboratory.intrinsic+json": {
              "type": "string"
            }
          },
          "metadata": {},
          "execution_count": 14
        }
      ]
    },
    {
      "cell_type": "markdown",
      "source": [
        "5. What is the value of spam[:2]?"
      ],
      "metadata": {
        "id": "jplNozhjANh2"
      }
    },
    {
      "cell_type": "code",
      "source": [
        "spam = ['a', 'b', 'c', 'd']\n",
        "spam[:2]"
      ],
      "metadata": {
        "colab": {
          "base_uri": "https://localhost:8080/"
        },
        "id": "te_3M4FZ-Vs_",
        "outputId": "4b404081-840c-4156-b5ba-28efb721d190"
      },
      "execution_count": null,
      "outputs": [
        {
          "output_type": "execute_result",
          "data": {
            "text/plain": [
              "['a', 'b']"
            ]
          },
          "metadata": {},
          "execution_count": 4
        }
      ]
    },
    {
      "cell_type": "markdown",
      "source": [
        "Lets pretend bacon has the list [3.14, 'cat', '11', 'cat', True] for the next three question.\n",
        "6. What is the value of bacon.index('cat')?"
      ],
      "metadata": {
        "id": "xusWGwyKBBSw"
      }
    },
    {
      "cell_type": "code",
      "source": [
        "bacon = [3.14, 'cat', '11', 'cat', True]\n",
        "bacon.index('cat') ## it returns the index of first occurrence of 'cat'"
      ],
      "metadata": {
        "colab": {
          "base_uri": "https://localhost:8080/"
        },
        "id": "54ueScnGAzoO",
        "outputId": "6f84d884-c924-49f1-8887-ed48a387c1a0"
      },
      "execution_count": null,
      "outputs": [
        {
          "output_type": "execute_result",
          "data": {
            "text/plain": [
              "1"
            ]
          },
          "metadata": {},
          "execution_count": 16
        }
      ]
    },
    {
      "cell_type": "markdown",
      "source": [
        "7. How does bacon.append(99) change the look of the list value in bacon?"
      ],
      "metadata": {
        "id": "hr4pnubhI-bg"
      }
    },
    {
      "cell_type": "code",
      "source": [
        "#append means added the value in end\n",
        "bacon = [3.14, 'cat', '11', 'cat', True]\n",
        "bacon.append(99) # append adds the item at the end of the list"
      ],
      "metadata": {
        "id": "wJP9Hfv0HNBE"
      },
      "execution_count": null,
      "outputs": []
    },
    {
      "cell_type": "code",
      "source": [
        "bacon "
      ],
      "metadata": {
        "colab": {
          "base_uri": "https://localhost:8080/"
        },
        "id": "KlTylLscJdRS",
        "outputId": "2b767664-ef23-4a9b-cebe-8173ec47ea70"
      },
      "execution_count": null,
      "outputs": [
        {
          "output_type": "execute_result",
          "data": {
            "text/plain": [
              "[3.14, 'cat', '11', 'cat', True, 99]"
            ]
          },
          "metadata": {},
          "execution_count": 19
        }
      ]
    },
    {
      "cell_type": "markdown",
      "source": [
        "8. How does bacon.remove('cat') change the look of the list in bacon?"
      ],
      "metadata": {
        "id": "2ip5lLAcK9z_"
      }
    },
    {
      "cell_type": "code",
      "source": [
        "bacon = [3.14, 'cat', '11', 'cat', True]\n",
        "bacon.remove('cat') #remove first occurrence of item"
      ],
      "metadata": {
        "id": "BcAg4uWQK4BR"
      },
      "execution_count": null,
      "outputs": []
    },
    {
      "cell_type": "code",
      "source": [
        "bacon"
      ],
      "metadata": {
        "colab": {
          "base_uri": "https://localhost:8080/"
        },
        "id": "U8ZUjJ9vLVpw",
        "outputId": "882cbe52-896e-4f19-9c58-1c648b139c45"
      },
      "execution_count": null,
      "outputs": [
        {
          "output_type": "execute_result",
          "data": {
            "text/plain": [
              "[3.14, '11', 'cat', True]"
            ]
          },
          "metadata": {},
          "execution_count": 7
        }
      ]
    },
    {
      "cell_type": "markdown",
      "source": [
        "9. What are the list concatenation and list replication operators?"
      ],
      "metadata": {
        "id": "UP-cWEyRLcr8"
      }
    },
    {
      "cell_type": "code",
      "source": [
        "list concatenation (+) : list concatenation  is an operation of adding the  elements of one list to the other list .\n",
        "some of example :"
      ],
      "metadata": {
        "id": "YHm1Nz9ULWk-"
      },
      "execution_count": null,
      "outputs": []
    },
    {
      "cell_type": "code",
      "source": [
        "l1= [1,2,3]\n",
        "l2 = [4,5,6]\n",
        "l1+l2"
      ],
      "metadata": {
        "colab": {
          "base_uri": "https://localhost:8080/"
        },
        "id": "tVkBwY4VBMhp",
        "outputId": "f19ca13d-305d-46c9-8752-f8fbf908091a"
      },
      "execution_count": null,
      "outputs": [
        {
          "output_type": "execute_result",
          "data": {
            "text/plain": [
              "[1, 2, 3, 4, 5, 6]"
            ]
          },
          "metadata": {},
          "execution_count": 1
        }
      ]
    },
    {
      "cell_type": "code",
      "source": [
        "list replication(*): list replication is an operation of multiple copies of that particular object \n",
        "and combines them together.\n",
        "some of example:"
      ],
      "metadata": {
        "id": "D-T1XU47BWS6"
      },
      "execution_count": null,
      "outputs": []
    },
    {
      "cell_type": "code",
      "source": [
        "l = [1,2,3,4]\n",
        "l*2"
      ],
      "metadata": {
        "colab": {
          "base_uri": "https://localhost:8080/"
        },
        "id": "AXxqbuT2DkW6",
        "outputId": "2fd00c5a-d2c0-4de5-a76f-8613886a44fc"
      },
      "execution_count": null,
      "outputs": [
        {
          "output_type": "execute_result",
          "data": {
            "text/plain": [
              "[1, 2, 3, 4, 1, 2, 3, 4]"
            ]
          },
          "metadata": {},
          "execution_count": 3
        }
      ]
    },
    {
      "cell_type": "markdown",
      "source": [
        "10. What is difference between the list methods append() and insert()?"
      ],
      "metadata": {
        "id": "HsJZS2MmDz-o"
      }
    },
    {
      "cell_type": "code",
      "source": [
        "append(): append object to the  end of the list.\n",
        "some of example:"
      ],
      "metadata": {
        "id": "gaNwjr6aDs4s"
      },
      "execution_count": null,
      "outputs": []
    },
    {
      "cell_type": "code",
      "source": [
        "a  = [1, 2, 3, \"chandra\", 4]\n",
        "a.append(33)\n",
        "print(a)"
      ],
      "metadata": {
        "colab": {
          "base_uri": "https://localhost:8080/"
        },
        "id": "8ISxaNQiEbK5",
        "outputId": "46393b66-92a4-4506-d545-f065dea38b18"
      },
      "execution_count": null,
      "outputs": [
        {
          "output_type": "stream",
          "name": "stdout",
          "text": [
            "[1, 2, 3, 'chandra', 4, 33]\n"
          ]
        }
      ]
    },
    {
      "cell_type": "code",
      "source": [
        "insert(): insert object before index.\n",
        "some of example:"
      ],
      "metadata": {
        "id": "UfdSwpy1E4B4"
      },
      "execution_count": null,
      "outputs": []
    },
    {
      "cell_type": "code",
      "source": [
        "a = [1, 2, 3, 4, 5]\n",
        "a.insert(1, \"cat\")#insering in the first index\n",
        "print(a)"
      ],
      "metadata": {
        "colab": {
          "base_uri": "https://localhost:8080/"
        },
        "id": "p4S_8OIWGhbS",
        "outputId": "f124f5da-2476-4f4c-d5b4-4e8876ff3199"
      },
      "execution_count": 14,
      "outputs": [
        {
          "output_type": "stream",
          "name": "stdout",
          "text": [
            "[1, 'cat', 2, 3, 4, 5]\n"
          ]
        }
      ]
    },
    {
      "cell_type": "markdown",
      "source": [
        "11. What are the two methods for removing items from a list?\n"
      ],
      "metadata": {
        "id": "s6QTeOEuHyOs"
      }
    },
    {
      "cell_type": "code",
      "source": [
        "from os import remove\n",
        "The two methods for removing items from a list:\n",
        "(i) remove()\n",
        "(ii) pop()"
      ],
      "metadata": {
        "id": "r-FZJd2BHsjD"
      },
      "execution_count": null,
      "outputs": []
    },
    {
      "cell_type": "code",
      "source": [
        "# remove: same object are in list , first occurence will be removed. \n",
        "# some example:\n",
        "b = [1, 2, 3, 1, 4, 5]\n",
        "b.remove(1)\n",
        "b"
      ],
      "metadata": {
        "colab": {
          "base_uri": "https://localhost:8080/"
        },
        "id": "mZE54j7tIVbv",
        "outputId": "ffdc878c-d4c9-437e-fdad-35f1187a328c"
      },
      "execution_count": null,
      "outputs": [
        {
          "output_type": "execute_result",
          "data": {
            "text/plain": [
              "[2, 3, 1, 4, 5]"
            ]
          },
          "metadata": {},
          "execution_count": 8
        }
      ]
    },
    {
      "cell_type": "code",
      "source": [
        "(ii)pop(): pop  always remove the last elements or index before the object will be removed.\n",
        "some of example:"
      ],
      "metadata": {
        "id": "RBU-mWWRJTdq"
      },
      "execution_count": null,
      "outputs": []
    },
    {
      "cell_type": "code",
      "source": [
        "c = [\"cat\", \"dog\", \"elephant\", \"camel\", \"horse\"]\n",
        "c.pop()\n",
        "c"
      ],
      "metadata": {
        "colab": {
          "base_uri": "https://localhost:8080/"
        },
        "id": "p-wLeXYZJ1Cx",
        "outputId": "f973b31c-bea8-48b8-c6d1-a6f2f0853535"
      },
      "execution_count": null,
      "outputs": [
        {
          "output_type": "execute_result",
          "data": {
            "text/plain": [
              "['cat', 'dog', 'elephant', 'camel']"
            ]
          },
          "metadata": {},
          "execution_count": 9
        }
      ]
    },
    {
      "cell_type": "code",
      "source": [
        "c = [\"cat\", \"dog\", \"elephant\", \"camel\", \"horse\"]\n",
        "c.pop(2)\n",
        "print(c)"
      ],
      "metadata": {
        "colab": {
          "base_uri": "https://localhost:8080/"
        },
        "id": "06ji3Q_nKHaq",
        "outputId": "5b535046-89d2-474f-ad4e-acf4fc52fc00"
      },
      "execution_count": null,
      "outputs": [
        {
          "output_type": "stream",
          "name": "stdout",
          "text": [
            "['cat', 'dog', 'camel', 'horse']\n"
          ]
        }
      ]
    },
    {
      "cell_type": "markdown",
      "source": [
        "12. Describe how list values and string values are identical."
      ],
      "metadata": {
        "id": "NExDF1K6KfHW"
      }
    },
    {
      "cell_type": "code",
      "source": [
        "\"\"\"\n",
        "Both list and string can be passed len()\n",
        "Have index and slices.\n",
        "Wecan use loop.\n",
        "We can concatenate both list and string.\n",
        "We can replicate operator both list and string.\n",
        "\"\"\""
      ],
      "metadata": {
        "id": "H-uC329sKRmy"
      },
      "execution_count": null,
      "outputs": []
    },
    {
      "cell_type": "markdown",
      "source": [
        "13. What's the difference between tuples and lists?"
      ],
      "metadata": {
        "id": "Te3z4DokRCVn"
      }
    },
    {
      "cell_type": "code",
      "source": [
        "\"\"\"\n",
        "Tuples:Tuples are using parentheses. ()\n",
        "tuples are immutable.\n",
        "\n",
        "list: lists are using square brackets.[]\n",
        "lists are mutable.\n",
        "\"\"\""
      ],
      "metadata": {
        "id": "ZtUjdJheRLgW"
      },
      "execution_count": null,
      "outputs": []
    },
    {
      "cell_type": "markdown",
      "source": [
        "14. How do you type a tuple value that only contains the integer 42?"
      ],
      "metadata": {
        "id": "ORY9XticTSXk"
      }
    },
    {
      "cell_type": "code",
      "source": [
        "tuple=(42)"
      ],
      "metadata": {
        "id": "YATXT5APxzvK"
      },
      "execution_count": 17,
      "outputs": []
    },
    {
      "cell_type": "code",
      "source": [
        "\n",
        "tuple"
      ],
      "metadata": {
        "colab": {
          "base_uri": "https://localhost:8080/"
        },
        "id": "R-zKj2bhx9O_",
        "outputId": "bd105918-029a-490e-b7df-faa6719be624"
      },
      "execution_count": 18,
      "outputs": [
        {
          "output_type": "execute_result",
          "data": {
            "text/plain": [
              "42"
            ]
          },
          "metadata": {},
          "execution_count": 18
        }
      ]
    },
    {
      "cell_type": "markdown",
      "source": [
        "15. How do you get a list value's tuple form? How do you get a tuple value's list form?"
      ],
      "metadata": {
        "id": "g10XOH2RTqjt"
      }
    },
    {
      "cell_type": "code",
      "source": [
        "t1=(9,\"dad\",2) #tuple to list\n",
        "l=list(t1)\n",
        "print(t1)\n",
        "print(l)\n",
        "print(type(t1))\n",
        "print(type(l))"
      ],
      "metadata": {
        "id": "LWOwxeJGUIsd",
        "colab": {
          "base_uri": "https://localhost:8080/"
        },
        "outputId": "7b277f4a-c869-470a-adc8-37475868ab60"
      },
      "execution_count": null,
      "outputs": [
        {
          "output_type": "stream",
          "name": "stdout",
          "text": [
            "(9, 'dad', 2)\n",
            "[9, 'dad', 2]\n",
            "<class 'tuple'>\n",
            "<class 'list'>\n"
          ]
        }
      ]
    },
    {
      "cell_type": "code",
      "source": [
        "l1=[2,\"cat\",3] #list to tuple\n",
        "t = tuple(l1)\n",
        "print(t)\n",
        "print(type(l1))\n",
        "print(type(t))"
      ],
      "metadata": {
        "colab": {
          "base_uri": "https://localhost:8080/"
        },
        "id": "dLYn9WZqz973",
        "outputId": "a9f47352-6b9c-451f-f92b-5b514f3882b7"
      },
      "execution_count": null,
      "outputs": [
        {
          "output_type": "stream",
          "name": "stdout",
          "text": [
            "(2, 'cat', 3)\n",
            "<class 'list'>\n",
            "<class 'tuple'>\n"
          ]
        }
      ]
    },
    {
      "cell_type": "markdown",
      "source": [
        "16. Variables that \"contain\" list values are not necessarily lists themselves. Instead, what do they contain?"
      ],
      "metadata": {
        "id": "DGKzikMVT3EP"
      }
    },
    {
      "cell_type": "code",
      "source": [
        "#References\n",
        "#Variables will contain references to list values rather than list values themselves. \n",
        "#But for strings and integer values, variables simply contain the string or integer value."
      ],
      "metadata": {
        "id": "1dbzxA_gH2WH"
      },
      "execution_count": null,
      "outputs": []
    },
    {
      "cell_type": "markdown",
      "source": [
        "17. How do you distinguish between copy.copy() and copy.deepcopy()?"
      ],
      "metadata": {
        "id": "Kttv3m_QUJIp"
      }
    },
    {
      "cell_type": "code",
      "source": [
        "#In order to make copies or clones, we use the copy module. The copy() returns a shallow copy of the list, and deepcopy() returns a deep copy of the list.\n",
        "\n",
        "import copy\n",
        "l1=[1,2,3,4]\n",
        "print( \"value of l1=\", l1)\n",
        "l2=copy.copy(l1) #shallow copy- any changes made to a copy of the object do reflect in the original object. \n",
        "print(\"value of l2=\", l2)\n",
        "l1[0]=0\n",
        "l3=copy.copy(l1)\n",
        "print ( \"value of l3=\", l3)\n",
        "\n",
        "l3=copy.deepcopy(l1) #deep copy-any changes made to a copy of the object do not reflect in the original object. only copy.deepcopy() will duplicate any lists inside the list\n",
        "print( \"value of l3=\", l3)\n"
      ],
      "metadata": {
        "colab": {
          "base_uri": "https://localhost:8080/"
        },
        "id": "gfUqCidNLEBI",
        "outputId": "e0c4418c-4e28-49c2-e94c-aecf5a030d8b"
      },
      "execution_count": 19,
      "outputs": [
        {
          "output_type": "stream",
          "name": "stdout",
          "text": [
            "value of l1= [1, 2, 3, 4]\n",
            "value of l2= [1, 2, 3, 4]\n",
            "value of l3= [0, 2, 3, 4]\n",
            "value of l3= [0, 2, 3, 4]\n"
          ]
        }
      ]
    },
    {
      "cell_type": "code",
      "source": [],
      "metadata": {
        "id": "qSIu6q13fnH9"
      },
      "execution_count": null,
      "outputs": []
    }
  ]
}