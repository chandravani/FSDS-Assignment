{
  "nbformat": 4,
  "nbformat_minor": 0,
  "metadata": {
    "colab": {
      "provenance": []
    },
    "kernelspec": {
      "name": "python3",
      "display_name": "Python 3"
    },
    "language_info": {
      "name": "python"
    }
  },
  "cells": [
    {
      "cell_type": "markdown",
      "source": [
        "1. What are escape characters, and how do you use them?"
      ],
      "metadata": {
        "id": "-dhzUiLICc0c"
      }
    },
    {
      "cell_type": "code",
      "execution_count": null,
      "metadata": {
        "id": "hf6fBOTyCCs_"
      },
      "outputs": [],
      "source": [
        "In Python strings, the Backslash \\ is a special character. \n",
        "Backslash is also called as escape characters.\n",
        " It is used in representing certain whitespace characters:\n",
        "\\n # Newline\n",
        "\\t # Horizontal tab\n",
        "\\v # vertical tab\n",
        "\\r # carriage return \n",
        "Finally , \" \" can be used to escape itself:\n",
        "\"\\\" is  the literal backslash character. "
      ]
    },
    {
      "cell_type": "markdown",
      "source": [
        "2. What do the escape characters n and t stand for?\n",
        "\n"
      ],
      "metadata": {
        "id": "EzQKC2uVCknF"
      }
    },
    {
      "cell_type": "code",
      "source": [
        "The escape characters :\n",
        "\\n # stand for new line\n",
        "\\t # stand for tab"
      ],
      "metadata": {
        "id": "q14RlNjZOGBE"
      },
      "execution_count": null,
      "outputs": []
    },
    {
      "cell_type": "markdown",
      "source": [
        "3. What is the way to include backslash characters in a string?\n",
        "\n"
      ],
      "metadata": {
        "id": "VzqdLipvCrHo"
      }
    },
    {
      "cell_type": "code",
      "source": [
        "We can use \\\\ backslash characters to insert a string.\n"
      ],
      "metadata": {
        "id": "EX4DeRamFUZe"
      },
      "execution_count": null,
      "outputs": []
    },
    {
      "cell_type": "markdown",
      "source": [
        "4. The string \"How|'s Moving Castle\" is a correct value. Why isn't the single quote character in the word How|'s not escaped a problem?"
      ],
      "metadata": {
        "id": "7ZQNRhQzC3jC"
      }
    },
    {
      "cell_type": "code",
      "source": [
        "\"How|'s Moving Castle\""
      ],
      "metadata": {
        "colab": {
          "base_uri": "https://localhost:8080/",
          "height": 35
        },
        "id": "Gc5fB_9HbFhT",
        "outputId": "e78b8fc9-6fc1-4bb3-ac03-12ba8941f1ad"
      },
      "execution_count": null,
      "outputs": [
        {
          "output_type": "execute_result",
          "data": {
            "text/plain": [
              "\"How|'s Moving Castle\""
            ],
            "application/vnd.google.colaboratory.intrinsic+json": {
              "type": "string"
            }
          },
          "metadata": {},
          "execution_count": 26
        }
      ]
    },
    {
      "cell_type": "code",
      "source": [
        "The single quote in Howl's is fine because we are used double quotes \n",
        "to mark the beginning and end of the string. or we can do it vice versa\n",
        "\n"
      ],
      "metadata": {
        "id": "0tKIYjwTbd_K"
      },
      "execution_count": null,
      "outputs": []
    },
    {
      "cell_type": "markdown",
      "source": [
        "5. How do you write a string of newlines if you don't want to use the n character?"
      ],
      "metadata": {
        "id": "XRM-dzfiCrWp"
      }
    },
    {
      "cell_type": "code",
      "source": [
        "  In triple-quoted string literals or multiple strings we can use  newlines instead of n character "
      ],
      "metadata": {
        "id": "rZ0tr7trarYs"
      },
      "execution_count": null,
      "outputs": []
    },
    {
      "cell_type": "markdown",
      "source": [
        "6. What are the values of the given expressions?\n",
        "'Hello, world!'[1]\n",
        "'Hello, world!'[0:5]\n",
        "'Hello, world!'[:5]\n",
        "'Hello, world!'[3:]\n",
        "\n"
      ],
      "metadata": {
        "id": "K0M1LAmtDYTQ"
      }
    },
    {
      "cell_type": "code",
      "source": [
        "'Hello, world!'[1] => 'e'\n",
        "'Hello, world!'[0:5] => 'Hello'\n",
        "'Hello, world!'[:5] => 'Hello'\n",
        "'Hello, world!'[3:] => 'lo, world!'"
      ],
      "metadata": {
        "id": "LYG2vDc3OqvX"
      },
      "execution_count": null,
      "outputs": []
    },
    {
      "cell_type": "code",
      "source": [
        "'Hello, world!'[1] "
      ],
      "metadata": {
        "colab": {
          "base_uri": "https://localhost:8080/",
          "height": 35
        },
        "id": "pdR0AxuzQFRb",
        "outputId": "1dfae866-47fe-47eb-c53f-905a11764139"
      },
      "execution_count": null,
      "outputs": [
        {
          "output_type": "execute_result",
          "data": {
            "text/plain": [
              "'e'"
            ],
            "application/vnd.google.colaboratory.intrinsic+json": {
              "type": "string"
            }
          },
          "metadata": {},
          "execution_count": 1
        }
      ]
    },
    {
      "cell_type": "code",
      "source": [
        "'Hello, world!'[0:5]"
      ],
      "metadata": {
        "colab": {
          "base_uri": "https://localhost:8080/",
          "height": 35
        },
        "id": "fH0Ixm1mQFTo",
        "outputId": "07d5b393-7486-4228-9579-1f6d760293d6"
      },
      "execution_count": null,
      "outputs": [
        {
          "output_type": "execute_result",
          "data": {
            "text/plain": [
              "'Hello'"
            ],
            "application/vnd.google.colaboratory.intrinsic+json": {
              "type": "string"
            }
          },
          "metadata": {},
          "execution_count": 2
        }
      ]
    },
    {
      "cell_type": "code",
      "source": [
        "'Hello, world!'[:5]"
      ],
      "metadata": {
        "colab": {
          "base_uri": "https://localhost:8080/",
          "height": 35
        },
        "id": "nqS1Qf5dQgQC",
        "outputId": "3b8da276-8c5a-4f81-eb12-1d7e59c3ad91"
      },
      "execution_count": null,
      "outputs": [
        {
          "output_type": "execute_result",
          "data": {
            "text/plain": [
              "'Hello'"
            ],
            "application/vnd.google.colaboratory.intrinsic+json": {
              "type": "string"
            }
          },
          "metadata": {},
          "execution_count": 3
        }
      ]
    },
    {
      "cell_type": "code",
      "source": [
        "'Hello, world!'[3:]"
      ],
      "metadata": {
        "colab": {
          "base_uri": "https://localhost:8080/",
          "height": 35
        },
        "id": "py1rQ8kbQgTb",
        "outputId": "e6b5e58b-7f89-46a1-9d94-78e80d0f223b"
      },
      "execution_count": null,
      "outputs": [
        {
          "output_type": "execute_result",
          "data": {
            "text/plain": [
              "'lo, world!'"
            ],
            "application/vnd.google.colaboratory.intrinsic+json": {
              "type": "string"
            }
          },
          "metadata": {},
          "execution_count": 4
        }
      ]
    },
    {
      "cell_type": "markdown",
      "source": [
        "7. What are the values of the given expressions?\n",
        "'Hello'.upper()\n",
        "'Hello'.upper().isupper()\n",
        "'Hello'.upper().lower()"
      ],
      "metadata": {
        "id": "SgDYzovKDdnX"
      }
    },
    {
      "cell_type": "code",
      "source": [
        "'Hello'.upper() => 'HELLO'\n",
        "'Hello'.upper().isupper() => True\n",
        "'Hello'.upper().lower() => 'hello'"
      ],
      "metadata": {
        "id": "JlpUkhPpQ1aO"
      },
      "execution_count": null,
      "outputs": []
    },
    {
      "cell_type": "code",
      "source": [
        "'Hello'.upper()"
      ],
      "metadata": {
        "colab": {
          "base_uri": "https://localhost:8080/",
          "height": 35
        },
        "id": "hApZxqWiQ1OU",
        "outputId": "dccadbd1-0879-433e-8007-c34df98bec29"
      },
      "execution_count": null,
      "outputs": [
        {
          "output_type": "execute_result",
          "data": {
            "text/plain": [
              "'HELLO'"
            ],
            "application/vnd.google.colaboratory.intrinsic+json": {
              "type": "string"
            }
          },
          "metadata": {},
          "execution_count": 5
        }
      ]
    },
    {
      "cell_type": "code",
      "source": [
        "'Hello'.upper().isupper() "
      ],
      "metadata": {
        "colab": {
          "base_uri": "https://localhost:8080/"
        },
        "id": "TcfQkgLYQ1BZ",
        "outputId": "df864335-64ab-437c-f287-8d88309447c8"
      },
      "execution_count": null,
      "outputs": [
        {
          "output_type": "execute_result",
          "data": {
            "text/plain": [
              "True"
            ]
          },
          "metadata": {},
          "execution_count": 6
        }
      ]
    },
    {
      "cell_type": "code",
      "source": [
        "'Hello'.upper().lower() "
      ],
      "metadata": {
        "colab": {
          "base_uri": "https://localhost:8080/",
          "height": 35
        },
        "id": "bvnj2nYkQ00S",
        "outputId": "baba4c07-3ab7-4f57-fa0d-00915f175777"
      },
      "execution_count": null,
      "outputs": [
        {
          "output_type": "execute_result",
          "data": {
            "text/plain": [
              "'hello'"
            ],
            "application/vnd.google.colaboratory.intrinsic+json": {
              "type": "string"
            }
          },
          "metadata": {},
          "execution_count": 7
        }
      ]
    },
    {
      "cell_type": "markdown",
      "source": [
        "8. What are the values of the following expressions?\n",
        "'Remember, remember, the fifth of july.'.split()\n",
        "'-'.join('There can only one.'.split())"
      ],
      "metadata": {
        "id": "YdqdKs5REFGk"
      }
    },
    {
      "cell_type": "code",
      "source": [
        "# split \n",
        "'Remember, remember, the fifth of july.'.split()"
      ],
      "metadata": {
        "colab": {
          "base_uri": "https://localhost:8080/"
        },
        "id": "GyDJNNUCQFXP",
        "outputId": "6fb27f06-1c93-4279-fb9b-9416ae47667c"
      },
      "execution_count": null,
      "outputs": [
        {
          "output_type": "execute_result",
          "data": {
            "text/plain": [
              "['Remember,', 'remember,', 'the', 'fifth', 'of', 'july.']"
            ]
          },
          "metadata": {},
          "execution_count": 8
        }
      ]
    },
    {
      "cell_type": "code",
      "source": [
        "#'-' join \n",
        "'-'.join('There can only one.'.split())"
      ],
      "metadata": {
        "colab": {
          "base_uri": "https://localhost:8080/",
          "height": 35
        },
        "id": "V4z-u75gRr-H",
        "outputId": "a736072c-e417-4705-9cab-8fbaeec6b6d7"
      },
      "execution_count": null,
      "outputs": [
        {
          "output_type": "execute_result",
          "data": {
            "text/plain": [
              "'There-can-only-one.'"
            ],
            "application/vnd.google.colaboratory.intrinsic+json": {
              "type": "string"
            }
          },
          "metadata": {},
          "execution_count": 10
        }
      ]
    },
    {
      "cell_type": "markdown",
      "source": [
        "9. What are the methods for right-justifying, left-justifying, and centering a string?"
      ],
      "metadata": {
        "id": "dRwI8KNyEgfK"
      }
    },
    {
      "cell_type": "code",
      "source": [
        "#The rjust(), ljust(), and center() string methods, respectively are the methods for right-justifying, left-justifying, and centering a string. \n",
        "\n",
        "str =\"My name is vani\"\n",
        "str.center(50,'*')# center justified\n",
        "\n"
      ],
      "metadata": {
        "id": "Iz4K--T5Thbg",
        "colab": {
          "base_uri": "https://localhost:8080/",
          "height": 36
        },
        "outputId": "32d1e5e9-fb3a-4429-90a5-1aa0f2006ec7"
      },
      "execution_count": 3,
      "outputs": [
        {
          "output_type": "execute_result",
          "data": {
            "text/plain": [
              "'*****************My name is vani******************'"
            ],
            "application/vnd.google.colaboratory.intrinsic+json": {
              "type": "string"
            }
          },
          "metadata": {},
          "execution_count": 3
        }
      ]
    },
    {
      "cell_type": "code",
      "source": [
        "str =\"Vani\"\n",
        "str.ljust(50,\"-\") # left justified"
      ],
      "metadata": {
        "colab": {
          "base_uri": "https://localhost:8080/",
          "height": 36
        },
        "id": "uUQGOC_gRK95",
        "outputId": "c5600883-a35a-4699-bfec-d6ada07e55fc"
      },
      "execution_count": 4,
      "outputs": [
        {
          "output_type": "execute_result",
          "data": {
            "text/plain": [
              "'Vani----------------------------------------------'"
            ],
            "application/vnd.google.colaboratory.intrinsic+json": {
              "type": "string"
            }
          },
          "metadata": {},
          "execution_count": 4
        }
      ]
    },
    {
      "cell_type": "code",
      "source": [
        "str =\"My name is vani\"\n",
        "str.rjust(50,'*') # right justified"
      ],
      "metadata": {
        "colab": {
          "base_uri": "https://localhost:8080/",
          "height": 36
        },
        "id": "qetkOBklRREM",
        "outputId": "0d024060-85e4-4199-eba3-3ce8f6af23fd"
      },
      "execution_count": 5,
      "outputs": [
        {
          "output_type": "execute_result",
          "data": {
            "text/plain": [
              "'***********************************My name is vani'"
            ],
            "application/vnd.google.colaboratory.intrinsic+json": {
              "type": "string"
            }
          },
          "metadata": {},
          "execution_count": 5
        }
      ]
    },
    {
      "cell_type": "markdown",
      "source": [
        "10. What is the best way to remove whitespace characters from the start or end?"
      ],
      "metadata": {
        "id": "yj7EKnKQEo_E"
      }
    },
    {
      "cell_type": "code",
      "source": [
        "#The lstrip() and rstrip() methods remove whitespace from the left and right ends of a string, respectively."
      ],
      "metadata": {
        "id": "Byrak6EnWT63"
      },
      "execution_count": 6,
      "outputs": []
    },
    {
      "cell_type": "code",
      "source": [
        "str =\"  gfgfgfgfgfgfgf yuyuyuuyuy  \"\n",
        "str.lstrip()"
      ],
      "metadata": {
        "colab": {
          "base_uri": "https://localhost:8080/",
          "height": 36
        },
        "id": "A4X8SsGDWW_R",
        "outputId": "224bbe5c-3a0a-4260-964b-0b179ca223e5"
      },
      "execution_count": 7,
      "outputs": [
        {
          "output_type": "execute_result",
          "data": {
            "text/plain": [
              "'gfgfgfgfgfgfgf yuyuyuuyuy  '"
            ],
            "application/vnd.google.colaboratory.intrinsic+json": {
              "type": "string"
            }
          },
          "metadata": {},
          "execution_count": 7
        }
      ]
    },
    {
      "cell_type": "code",
      "source": [
        "str =\"  yytytytyyt mmamamam  \"\n",
        "str.rstrip()"
      ],
      "metadata": {
        "id": "4GonkKzOYtWM",
        "colab": {
          "base_uri": "https://localhost:8080/",
          "height": 36
        },
        "outputId": "c01b0148-c648-430e-e78c-91f6b5488f09"
      },
      "execution_count": 8,
      "outputs": [
        {
          "output_type": "execute_result",
          "data": {
            "text/plain": [
              "'  yytytytyyt mmamamam'"
            ],
            "application/vnd.google.colaboratory.intrinsic+json": {
              "type": "string"
            }
          },
          "metadata": {},
          "execution_count": 8
        }
      ]
    }
  ]
}