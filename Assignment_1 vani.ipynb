{
  "nbformat": 4,
  "nbformat_minor": 0,
  "metadata": {
    "colab": {
      "provenance": []
    },
    "kernelspec": {
      "name": "python3",
      "display_name": "Python 3"
    },
    "language_info": {
      "name": "python"
    }
  },
  "cells": [
    {
      "cell_type": "markdown",
      "source": [
        "1. In the below elements which of them are values or an expression? eg:- values can be integer or string and expressions will be mathematical operators.\n",
        "\n"
      ],
      "metadata": {
        "id": "8JhJPh63HEsU"
      }
    },
    {
      "cell_type": "code",
      "source": [
        "* -Expressions\n",
        "'hello'-Values\n",
        "-87.8-Values\n",
        "- -Expressions\n",
        "/ -Expressions\n",
        "+ -Expression\n",
        "6 -Values"
      ],
      "metadata": {
        "id": "dQc90st0HzIs"
      },
      "execution_count": null,
      "outputs": []
    },
    {
      "cell_type": "markdown",
      "source": [
        "2. What is the difference between string and variable?"
      ],
      "metadata": {
        "id": "UZnJNnEZHOdt"
      }
    },
    {
      "cell_type": "code",
      "source": [
        "\"\"\"\n",
        "The information stored in a variable is called string. A string is a sequence of one or more characters (letters, numbers, symbols). They are enclosed in single or double quotation marks.\n",
        "Variable is a symbol that can be used to store information (string, integer etc).  Or, It is given a name to the data.\n",
        "\"\"\"\n"
      ],
      "metadata": {
        "id": "O0-RB1x6H4YR"
      },
      "execution_count": null,
      "outputs": []
    },
    {
      "cell_type": "markdown",
      "source": [
        "3. Describe three different data types."
      ],
      "metadata": {
        "id": "bf6vEH-lH-pp"
      }
    },
    {
      "cell_type": "code",
      "source": [
        "\"\"\"\n",
        "String- combination of letters, numbers, special characters(within single or double quotation). stores text data. \n",
        "Integers, float and complex called numeric types.\n",
        "  Integers-  Whole numbers. Eg. 2\n",
        "  Floating number- Numbers with decimal point. Eg. 2.2\n",
        "  complex- 3+7j\n",
        "Boolean-True or False\n",
        "\"\"\"\n"
      ],
      "metadata": {
        "id": "hmeghP2YICAo"
      },
      "execution_count": null,
      "outputs": []
    },
    {
      "cell_type": "markdown",
      "source": [
        "4. What is an expression made up of? What do all expressions do?"
      ],
      "metadata": {
        "id": "IIWI9p7uIJRq"
      }
    },
    {
      "cell_type": "code",
      "source": [
        "\"\"\"\n",
        "Expression may contain variable, values and operators. which need to be evaluated.\n",
        "It will display result when you type an expression in the command line. All expressions evaluate to a single value\n",
        "But the results from expression and print statement is different.\n",
        "\"\"\""
      ],
      "metadata": {
        "id": "Q9QsAfTOIM0U"
      },
      "execution_count": null,
      "outputs": []
    },
    {
      "cell_type": "markdown",
      "source": [
        "5. This assignment statements, like spam = 10. What is the difference between an expression and a statement?"
      ],
      "metadata": {
        "id": "6yKSF7zXIX0o"
      }
    },
    {
      "cell_type": "code",
      "source": [
        "\"\"\"\n",
        "Expression gives an output. But an assignment statement does not.print statement gives an output\n",
        "Assignment statement, spam=10.... No result\n",
        "print statement, input spam give output 10\n",
        "\tExpression, [input]-spam\n",
        "              [output] -'10'\n",
        "\"\"\""
      ],
      "metadata": {
        "id": "DQEvI0aQIzzI"
      },
      "execution_count": null,
      "outputs": []
    },
    {
      "cell_type": "markdown",
      "source": [
        "6. After running the following code, what does the variable bacon contain?\n",
        "bacon = 22\n",
        "bacon + 1\n"
      ],
      "metadata": {
        "id": "O3wEe6CXJpFJ"
      }
    },
    {
      "cell_type": "code",
      "source": [
        "Ans=22"
      ],
      "metadata": {
        "id": "eDx37PCoJtGT"
      },
      "execution_count": null,
      "outputs": []
    },
    {
      "cell_type": "markdown",
      "source": [
        "7. What should the values of the following two terms be?"
      ],
      "metadata": {
        "id": "kY7pCIJ6J0xd"
      }
    },
    {
      "cell_type": "code",
      "source": [
        "'spam' + 'spamspam'\n",
        "'spam' * 3"
      ],
      "metadata": {
        "colab": {
          "base_uri": "https://localhost:8080/",
          "height": 35
        },
        "id": "PoGDi1i6J7wT",
        "outputId": "1bc2cfff-52ad-4295-a6bd-8a83e911ab9e"
      },
      "execution_count": null,
      "outputs": [
        {
          "output_type": "execute_result",
          "data": {
            "text/plain": [
              "'spamspamspam'"
            ],
            "application/vnd.google.colaboratory.intrinsic+json": {
              "type": "string"
            }
          },
          "metadata": {},
          "execution_count": 3
        }
      ]
    },
    {
      "cell_type": "code",
      "source": [
        "Both gives the same value \"spamspamspam\""
      ],
      "metadata": {
        "id": "j5nk4yHaKSWf"
      },
      "execution_count": null,
      "outputs": []
    },
    {
      "cell_type": "code",
      "source": [
        "'spam' + 'spamspam'"
      ],
      "metadata": {
        "colab": {
          "base_uri": "https://localhost:8080/",
          "height": 35
        },
        "id": "5IqgIRi1KZdp",
        "outputId": "407d2f8a-26f8-4462-cc4b-d3687d518f74"
      },
      "execution_count": null,
      "outputs": [
        {
          "output_type": "execute_result",
          "data": {
            "text/plain": [
              "'spamspamspam'"
            ],
            "application/vnd.google.colaboratory.intrinsic+json": {
              "type": "string"
            }
          },
          "metadata": {},
          "execution_count": 5
        }
      ]
    },
    {
      "cell_type": "code",
      "source": [
        "'spam' * 3"
      ],
      "metadata": {
        "colab": {
          "base_uri": "https://localhost:8080/",
          "height": 35
        },
        "id": "vqGe-jq2KZ6e",
        "outputId": "496f9c63-a398-4f28-f8eb-5405c584f21d"
      },
      "execution_count": null,
      "outputs": [
        {
          "output_type": "execute_result",
          "data": {
            "text/plain": [
              "'spamspamspam'"
            ],
            "application/vnd.google.colaboratory.intrinsic+json": {
              "type": "string"
            }
          },
          "metadata": {},
          "execution_count": 6
        }
      ]
    },
    {
      "cell_type": "code",
      "source": [
        "|8. Why is eggs a valid variable name while 100 is invalid?"
      ],
      "metadata": {
        "id": "d5qdNKBGKg_Z"
      },
      "execution_count": null,
      "outputs": []
    },
    {
      "cell_type": "code",
      "source": [
        "#\tBecause 100 starts with number. Python rule."
      ],
      "metadata": {
        "id": "LxRF6EvoKpoY"
      },
      "execution_count": null,
      "outputs": []
    },
    {
      "cell_type": "markdown",
      "source": [
        "9. What three functions can be used to get the integer, floating-point number, or string version of a value?"
      ],
      "metadata": {
        "id": "KN1IUFkXKrMj"
      }
    },
    {
      "cell_type": "code",
      "source": [
        "By converting their values.. like,\n",
        "int()\n",
        "float()\n",
        "str()\n"
      ],
      "metadata": {
        "id": "oQA5CAMyKujJ"
      },
      "execution_count": null,
      "outputs": []
    },
    {
      "cell_type": "code",
      "source": [
        "10. Why does this expression cause an error? How can you fix it?\n",
        "'I have eaten ' + 99 + ' burritos.'"
      ],
      "metadata": {
        "id": "Xf4_0rE0KwjP"
      },
      "execution_count": null,
      "outputs": []
    },
    {
      "cell_type": "code",
      "source": [
        "This expression cause type error because 99 is an integer type. We cannot concatenate str to int. By converting 99 into a str type “99” we can fix this error.\n",
        "'I have eaten ' + ‘99’ + ' burritos.'        (or)\n",
        "'I have eaten ' + str(99) + ' burritos.'\n",
        "\n"
      ],
      "metadata": {
        "id": "JBKrEh47K20B"
      },
      "execution_count": null,
      "outputs": []
    }
  ]
}