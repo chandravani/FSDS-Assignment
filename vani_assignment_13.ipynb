{
  "nbformat": 4,
  "nbformat_minor": 0,
  "metadata": {
    "colab": {
      "provenance": []
    },
    "kernelspec": {
      "name": "python3",
      "display_name": "Python 3"
    },
    "language_info": {
      "name": "python"
    }
  },
  "cells": [
    {
      "cell_type": "markdown",
      "source": [
        "1. What advantages do Excel spreadsheets have over CSV spreadsheets?"
      ],
      "metadata": {
        "id": "BTsQSD5bnT-H"
      }
    },
    {
      "cell_type": "code",
      "source": [
        "It’s easy to manipulate and analyze data.\n",
        "In spreadsheet can fix graphs, bar and pie and also can calculate easily."
      ],
      "metadata": {
        "id": "4dF98VLnnznY"
      },
      "execution_count": null,
      "outputs": []
    },
    {
      "cell_type": "markdown",
      "source": [
        "2.What do you pass to csv.reader() and csv.writer() to create reader and writer objects?\n"
      ],
      "metadata": {
        "id": "s1PDPyxQnTq-"
      }
    },
    {
      "cell_type": "code",
      "source": [
        "We pass a file object, obtained from call to open()."
      ],
      "metadata": {
        "id": "rEG3nunEnwrN"
      },
      "execution_count": null,
      "outputs": []
    },
    {
      "cell_type": "markdown",
      "source": [
        "3. What modes do File objects for reader and writer objects need to be opened in?\n"
      ],
      "metadata": {
        "id": "fRVW2LibnTuN"
      }
    },
    {
      "cell_type": "code",
      "source": [
        "read mode is used for only reading\n",
        "write mode is used for only writing"
      ],
      "metadata": {
        "id": "eo-DXTTsrYim"
      },
      "execution_count": null,
      "outputs": []
    },
    {
      "cell_type": "markdown",
      "source": [
        "4. What method takes a list argument and writes it to a CSV file?\n"
      ],
      "metadata": {
        "id": "ck104oHEnTxZ"
      }
    },
    {
      "cell_type": "code",
      "source": [
        "writerrows = The writerow method writes a row of data into the specified file.\n",
        " It is possible to write all data in one shot."
      ],
      "metadata": {
        "id": "hajhYAqkuyVk"
      },
      "execution_count": null,
      "outputs": []
    },
    {
      "cell_type": "code",
      "source": [
        "#using write row\n",
        "import csv\n",
        "with open('Book1.csv', 'w', newline='') as file:\n",
        "    writer = csv.writer(file)\n",
        "    writer.writerow([\"chandra\", \"vani\"])\n",
        "    writer.writerow([1, \"assignment 13\", \"complete\"])\n",
        "\n",
        "print(\"the new line are added in the file\")"
      ],
      "metadata": {
        "colab": {
          "base_uri": "https://localhost:8080/"
        },
        "id": "KCWBZjNjxgKN",
        "outputId": "131826c8-6209-4f86-9f5d-3f42e1ec8828"
      },
      "execution_count": null,
      "outputs": [
        {
          "output_type": "stream",
          "name": "stdout",
          "text": [
            "the new line are added in the file\n"
          ]
        }
      ]
    },
    {
      "cell_type": "markdown",
      "source": [
        "5. What do the keyword arguments delimiter and line terminator do?"
      ],
      "metadata": {
        "id": "UeMFv3HZnT0R"
      }
    },
    {
      "cell_type": "code",
      "source": [
        " The delimiter is the character that appears between cells on a row.\n",
        "  By default, the delimiter for a CSV file is a comma.\n",
        " The line terminator is the character that comes at the end of a row."
      ],
      "metadata": {
        "id": "VeiBvpKsnnFm"
      },
      "execution_count": null,
      "outputs": []
    },
    {
      "cell_type": "markdown",
      "source": [
        "6. What function takes a string of JSON data and returns a Python data structure?\n"
      ],
      "metadata": {
        "id": "qky4wdtznT3a"
      }
    },
    {
      "cell_type": "code",
      "source": [
        "If you have a JSON string, you can parse it by using the json.loads() method."
      ],
      "metadata": {
        "id": "eQgsOo2lpaQI"
      },
      "execution_count": null,
      "outputs": []
    },
    {
      "cell_type": "code",
      "source": [
        "import json\n",
        "\n",
        "# string of JSON data:\n",
        "x =  '{ \"name\":\"John\", \"age\":30, \"city\":\"New York\"}'\n",
        "\n",
        "#using json.loads\n",
        "y = json.loads(x)\n",
        "print(\"python : \" , y[\"age\"])"
      ],
      "metadata": {
        "colab": {
          "base_uri": "https://localhost:8080/"
        },
        "id": "aTXsJfiEo8Zs",
        "outputId": "fe26232c-7dae-488d-ab90-ee3af7d7da0e"
      },
      "execution_count": null,
      "outputs": [
        {
          "output_type": "stream",
          "name": "stdout",
          "text": [
            "python :  30\n"
          ]
        }
      ]
    },
    {
      "cell_type": "markdown",
      "source": [
        "7. What function takes a Python data structure and returns a string of JSON data?"
      ],
      "metadata": {
        "id": "XJrd8pZBnT6m"
      }
    },
    {
      "cell_type": "code",
      "source": [
        "\n",
        "# a Python object (dict):\n",
        "x = {\n",
        "  \"name\": \"John\",\n",
        "  \"age\": 30,\n",
        "  \"city\": \"New York\"\n",
        "}\n",
        "\n",
        "# using dumps can convert into JSON:\n",
        "y = json.dumps(x)\n",
        "\n",
        "#  JSON string:\n",
        "print(\"JSON String : \", y)"
      ],
      "metadata": {
        "colab": {
          "base_uri": "https://localhost:8080/"
        },
        "id": "sRo4DDadolmo",
        "outputId": "2a5e8c98-7767-44a8-bc24-dd3de1917241"
      },
      "execution_count": null,
      "outputs": [
        {
          "output_type": "stream",
          "name": "stdout",
          "text": [
            "JSON String :  {\"name\": \"John\", \"age\": 30, \"city\": \"New York\"}\n"
          ]
        }
      ]
    }
  ]
}