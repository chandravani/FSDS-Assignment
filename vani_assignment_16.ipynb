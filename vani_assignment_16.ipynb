{
  "nbformat": 4,
  "nbformat_minor": 0,
  "metadata": {
    "colab": {
      "provenance": []
    },
    "kernelspec": {
      "name": "python3",
      "display_name": "Python 3"
    },
    "language_info": {
      "name": "python"
    }
  },
  "cells": [
    {
      "cell_type": "markdown",
      "source": [
        "\n",
        "1. Create a list called years_list, starting with the year of your birth, and\n",
        "each year thereafter until the year of your fifth birthday. For example,\n",
        "if you were born in 1980. the list would be years_list = [1980, 1981, 1982, 1983, 1984, 1985]."
      ],
      "metadata": {
        "id": "1LzBShNGCbBo"
      }
    },
    {
      "cell_type": "code",
      "source": [
        "yearslist = [1997, 1998, 1999, 2000, 2001] # 1997 is my birthday and 2001 is fifth birthday\n",
        "yearslist"
      ],
      "metadata": {
        "colab": {
          "base_uri": "https://localhost:8080/"
        },
        "id": "uRMSkhkKNA9U",
        "outputId": "861994ee-09a7-4086-a8dc-8904113f61e6"
      },
      "execution_count": null,
      "outputs": [
        {
          "output_type": "execute_result",
          "data": {
            "text/plain": [
              "[1997, 1998, 1999, 2000, 2001]"
            ]
          },
          "metadata": {},
          "execution_count": 10
        }
      ]
    },
    {
      "cell_type": "markdown",
      "source": [
        "2. In which year in years_list was your third birthday?\n",
        "Remember, you were 0 years of age for your first year."
      ],
      "metadata": {
        "id": "DjOTM_J8CgeX"
      }
    },
    {
      "cell_type": "code",
      "source": [
        "yearslist[2]"
      ],
      "metadata": {
        "colab": {
          "base_uri": "https://localhost:8080/"
        },
        "id": "IgrmKeXCNql1",
        "outputId": "2741a80a-5bf4-424e-8e87-1112ef5d7b18"
      },
      "execution_count": null,
      "outputs": [
        {
          "output_type": "execute_result",
          "data": {
            "text/plain": [
              "1999"
            ]
          },
          "metadata": {},
          "execution_count": 11
        }
      ]
    },
    {
      "cell_type": "markdown",
      "source": [
        "3.In the years list, which year were you the oldest?"
      ],
      "metadata": {
        "id": "o8XdhRMACjPu"
      }
    },
    {
      "cell_type": "code",
      "source": [
        "max(yearslist)"
      ],
      "metadata": {
        "colab": {
          "base_uri": "https://localhost:8080/"
        },
        "id": "As_kn08yPQVn",
        "outputId": "52cf1d97-b1d1-4e47-bb4d-145325499f11"
      },
      "execution_count": null,
      "outputs": [
        {
          "output_type": "execute_result",
          "data": {
            "text/plain": [
              "2001"
            ]
          },
          "metadata": {},
          "execution_count": 12
        }
      ]
    },
    {
      "cell_type": "markdown",
      "source": [
        "4. Make a list called things with these three strings as elements: \"mozzarella\", \"cinderella\", \"salmonella\"."
      ],
      "metadata": {
        "id": "tgmgONLTClUf"
      }
    },
    {
      "cell_type": "code",
      "source": [
        "things = [ \"mozzarella\", \"cinderella\", \"salmonella\"]\n",
        "things"
      ],
      "metadata": {
        "colab": {
          "base_uri": "https://localhost:8080/"
        },
        "id": "kzMxJU_bPn9n",
        "outputId": "a954f024-d230-4ab8-a63f-770c44b5b02d"
      },
      "execution_count": 7,
      "outputs": [
        {
          "output_type": "execute_result",
          "data": {
            "text/plain": [
              "['mozzarella', 'cinderella', 'salmonella']"
            ]
          },
          "metadata": {},
          "execution_count": 7
        }
      ]
    },
    {
      "cell_type": "markdown",
      "source": [
        "5. Capitalize the element in things that refers to a person and then print the list. Did it change the element in the list?"
      ],
      "metadata": {
        "id": "yD-pf-vWCnUX"
      }
    },
    {
      "cell_type": "code",
      "source": [
        "things = things.copy()\n",
        "things[1].capitalize()"
      ],
      "metadata": {
        "id": "7dllCZ35RutL",
        "colab": {
          "base_uri": "https://localhost:8080/",
          "height": 36
        },
        "outputId": "45e0e6a2-9d57-41be-df8d-23e6f2dcd878"
      },
      "execution_count": 8,
      "outputs": [
        {
          "output_type": "execute_result",
          "data": {
            "text/plain": [
              "'Cinderella'"
            ],
            "application/vnd.google.colaboratory.intrinsic+json": {
              "type": "string"
            }
          },
          "metadata": {},
          "execution_count": 8
        }
      ]
    },
    {
      "cell_type": "markdown",
      "source": [
        "6. Make a surprise list with the elements \"Groucho,\" \"Chico,\" and \"Harpo.\""
      ],
      "metadata": {
        "id": "RDhApZW7Cqhv"
      }
    },
    {
      "cell_type": "code",
      "source": [
        "surpriselist = [\"Groucho,\"  \"Chico,\"  \"Harpo.\"]\n",
        "surpriselist"
      ],
      "metadata": {
        "id": "0dkAmUxHTpbJ",
        "colab": {
          "base_uri": "https://localhost:8080/"
        },
        "outputId": "7e7d4fc2-5c63-49b6-e3a3-b83a4f12b3a0"
      },
      "execution_count": null,
      "outputs": [
        {
          "output_type": "execute_result",
          "data": {
            "text/plain": [
              "['Groucho,Chico,Harpo.']"
            ]
          },
          "metadata": {},
          "execution_count": 2
        }
      ]
    },
    {
      "cell_type": "markdown",
      "source": [
        "7. Lowercase the last element of the surprise list, reverse it, and then capitalize it."
      ],
      "metadata": {
        "id": "Z54lbC6cCsxf"
      }
    },
    {
      "cell_type": "code",
      "source": [
        "surpriselist[-1] = surpriselist[-1].lower()\n",
        "surpriselist[-1] = surpriselist[-1][::-1]\n",
        "surpriselist[-1].capitalize()"
      ],
      "metadata": {
        "id": "ywhgImxyFooG",
        "colab": {
          "base_uri": "https://localhost:8080/",
          "height": 36
        },
        "outputId": "916e3c47-1316-4429-87ac-458afedbb9f9"
      },
      "execution_count": null,
      "outputs": [
        {
          "output_type": "execute_result",
          "data": {
            "text/plain": [
              "'.oprah,ocihc,ohcuorg'"
            ],
            "application/vnd.google.colaboratory.intrinsic+json": {
              "type": "string"
            }
          },
          "metadata": {},
          "execution_count": 4
        }
      ]
    },
    {
      "cell_type": "markdown",
      "source": [
        "8. Make an English-to-French dictionary called e2f and print it. Here are your starter words:\n",
        " dog is chien, cat is chat, and walrus is morse."
      ],
      "metadata": {
        "id": "pdziTEylCwIm"
      }
    },
    {
      "cell_type": "code",
      "source": [
        "e2f = {\"dog\": \"chien\", \"cat\": \"chat\", \"walrus\": \"morse\"}\n",
        "print(e2f)"
      ],
      "metadata": {
        "colab": {
          "base_uri": "https://localhost:8080/"
        },
        "id": "7W9kZ5EzV1F3",
        "outputId": "1219cee4-d078-4622-d8f2-239e81b54f40"
      },
      "execution_count": null,
      "outputs": [
        {
          "output_type": "stream",
          "name": "stdout",
          "text": [
            "{'dog': 'chien', 'cat': 'chat', 'walrus': 'morse'}\n"
          ]
        }
      ]
    },
    {
      "cell_type": "markdown",
      "source": [
        "9. Write the French word for walrus in your three-word dictionary e2f."
      ],
      "metadata": {
        "id": "RrH-1LJECyo-"
      }
    },
    {
      "cell_type": "code",
      "source": [
        "e2f[\"walrus\"]"
      ],
      "metadata": {
        "colab": {
          "base_uri": "https://localhost:8080/",
          "height": 36
        },
        "id": "K1_jMLH8D9y7",
        "outputId": "98de075c-ad38-460a-9f75-09c7db458f6b"
      },
      "execution_count": null,
      "outputs": [
        {
          "output_type": "execute_result",
          "data": {
            "text/plain": [
              "'morse'"
            ],
            "application/vnd.google.colaboratory.intrinsic+json": {
              "type": "string"
            }
          },
          "metadata": {},
          "execution_count": 11
        }
      ]
    },
    {
      "cell_type": "markdown",
      "source": [
        "10. Make a French-to-English dictionary called f2e from e2f. Use the items method.\n"
      ],
      "metadata": {
        "id": "ozwSHg2tC0LS"
      }
    },
    {
      "cell_type": "code",
      "source": [
        "f2e = {}\n",
        "for english, french in e2f.items():          #items is both keys and values\n",
        " f2e[french] = english"
      ],
      "metadata": {
        "id": "aJhYBLYMDfYo"
      },
      "execution_count": null,
      "outputs": []
    },
    {
      "cell_type": "markdown",
      "source": [
        "11. Print the English version of the French word chien using f2e."
      ],
      "metadata": {
        "id": "nlbAGLbiC2G1"
      }
    },
    {
      "cell_type": "code",
      "source": [
        "f2e['chien']"
      ],
      "metadata": {
        "colab": {
          "base_uri": "https://localhost:8080/",
          "height": 36
        },
        "id": "P-mtVSNuDG0U",
        "outputId": "d8852ef4-2f9c-4b7a-b504-f41415c43646"
      },
      "execution_count": null,
      "outputs": [
        {
          "output_type": "execute_result",
          "data": {
            "text/plain": [
              "'dog'"
            ],
            "application/vnd.google.colaboratory.intrinsic+json": {
              "type": "string"
            }
          },
          "metadata": {},
          "execution_count": 13
        }
      ]
    },
    {
      "cell_type": "code",
      "source": [],
      "metadata": {
        "id": "nBU1Kx6nDQtg"
      },
      "execution_count": null,
      "outputs": []
    }
  ]
}