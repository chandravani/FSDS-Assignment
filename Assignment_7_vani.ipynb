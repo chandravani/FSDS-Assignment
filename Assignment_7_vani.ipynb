{
  "nbformat": 4,
  "nbformat_minor": 0,
  "metadata": {
    "colab": {
      "provenance": []
    },
    "kernelspec": {
      "name": "python3",
      "display_name": "Python 3"
    },
    "language_info": {
      "name": "python"
    }
  },
  "cells": [
    {
      "cell_type": "markdown",
      "source": [
        "1. What is the name of the feature responsible for generating Regex objects?"
      ],
      "metadata": {
        "id": "YmT_-P8I7lhd"
      }
    },
    {
      "cell_type": "code",
      "source": [
        "#The name of the feature responsible for generating Regex objects is re.compile() function which returns Regex objects.\n",
        "import re\n",
        "re.compile(\"string\")\n",
        "#The re.compile() function returns Regex objects."
      ],
      "metadata": {
        "colab": {
          "base_uri": "https://localhost:8080/"
        },
        "id": "XxmMDzh3gNnO",
        "outputId": "0686b5f8-0107-49b7-c37c-4faf51a3b1bd"
      },
      "execution_count": null,
      "outputs": [
        {
          "output_type": "execute_result",
          "data": {
            "text/plain": [
              "re.compile(r'string', re.UNICODE)"
            ]
          },
          "metadata": {},
          "execution_count": 3
        }
      ]
    },
    {
      "cell_type": "markdown",
      "source": [
        "2. Why do raw strings often appear in Regex objects?"
      ],
      "metadata": {
        "id": "DlW3TIG97pmH"
      }
    },
    {
      "cell_type": "code",
      "source": [
        "#Raw strings are used so that backslashes do not have to be escaped."
      ],
      "metadata": {
        "id": "PumSu-ZAqGoB"
      },
      "execution_count": null,
      "outputs": []
    },
    {
      "cell_type": "markdown",
      "source": [
        "3. What is the return value of the search() method?"
      ],
      "metadata": {
        "id": "GVbovjlD7rxC"
      }
    },
    {
      "cell_type": "code",
      "source": [
        "#The return value of the search() method is that it returns Match objects.The search() function searches the string for a match, and returns a Match object if there is a match."
      ],
      "metadata": {
        "id": "2-XCNj3YmNLR"
      },
      "execution_count": null,
      "outputs": []
    },
    {
      "cell_type": "markdown",
      "source": [
        "4. From a Match item, how do you get the actual strings that match the pattern?"
      ],
      "metadata": {
        "id": "d6foHc107uK0"
      }
    },
    {
      "cell_type": "code",
      "source": [
        "#The group() method returns strings of the matched text."
      ],
      "metadata": {
        "id": "oTX9NGB-q1V6"
      },
      "execution_count": null,
      "outputs": []
    },
    {
      "cell_type": "markdown",
      "source": [
        "\n",
        "5. In the regex which created from the r'(\\d\\d\\d)-(\\d\\d\\d-\\d\\d\\d\\d)', what does group zero cover? Group 2? Group 1?\n",
        "\n"
      ],
      "metadata": {
        "id": "qtHX7Tsj71TY"
      }
    },
    {
      "cell_type": "code",
      "source": [
        "#Group 0 is the entire match, group 1 covers the first set of parentheses, and group 2 covers the second set of parentheses\n",
        "phoneNumRegex = re.compile(r'(\\d\\d\\d)-(\\d\\d\\d-\\d\\d\\d\\d)')\n",
        "mo = phoneNumRegex.search('My number is 345-444-4542.')\n",
        "mo.group(1)"
      ],
      "metadata": {
        "colab": {
          "base_uri": "https://localhost:8080/",
          "height": 35
        },
        "id": "jYjXRBrYr5l9",
        "outputId": "d1e77b6c-7b6d-4018-de0d-572db081ae94"
      },
      "execution_count": null,
      "outputs": [
        {
          "output_type": "execute_result",
          "data": {
            "text/plain": [
              "'345'"
            ],
            "application/vnd.google.colaboratory.intrinsic+json": {
              "type": "string"
            }
          },
          "metadata": {},
          "execution_count": 4
        }
      ]
    },
    {
      "cell_type": "code",
      "source": [
        "mo.group(2)"
      ],
      "metadata": {
        "colab": {
          "base_uri": "https://localhost:8080/",
          "height": 35
        },
        "id": "q_pDMOR9sst7",
        "outputId": "a4dfb607-6246-4ef4-c202-e82280e502cb"
      },
      "execution_count": null,
      "outputs": [
        {
          "output_type": "execute_result",
          "data": {
            "text/plain": [
              "'444-4542'"
            ],
            "application/vnd.google.colaboratory.intrinsic+json": {
              "type": "string"
            }
          },
          "metadata": {},
          "execution_count": 5
        }
      ]
    },
    {
      "cell_type": "code",
      "source": [
        "mo.group(0)"
      ],
      "metadata": {
        "colab": {
          "base_uri": "https://localhost:8080/",
          "height": 35
        },
        "id": "9g7iKlY-sva2",
        "outputId": "e826d9f1-da41-4992-c9fe-b0c2944ff46b"
      },
      "execution_count": null,
      "outputs": [
        {
          "output_type": "execute_result",
          "data": {
            "text/plain": [
              "'345-444-4542'"
            ],
            "application/vnd.google.colaboratory.intrinsic+json": {
              "type": "string"
            }
          },
          "metadata": {},
          "execution_count": 6
        }
      ]
    },
    {
      "cell_type": "markdown",
      "source": [
        "6. In standard expression syntax, parentheses and intervals have distinct meanings. How can you tell a regex that you want it to fit real parentheses and periods?"
      ],
      "metadata": {
        "id": "TgPLKY8575sz"
      }
    },
    {
      "cell_type": "code",
      "source": [
        "#Periods and parentheses can be escaped with a backslash: \\., \\(, and \\)"
      ],
      "metadata": {
        "id": "YQkd2G8YtEJu"
      },
      "execution_count": null,
      "outputs": []
    },
    {
      "cell_type": "markdown",
      "source": [
        "7. The findall() method returns a string list or a list of string tuples. What causes it to return one of the two options?\n"
      ],
      "metadata": {
        "id": "pP9ZvUbg770u"
      }
    },
    {
      "cell_type": "code",
      "source": [
        "#If the regex has no groups, a list of strings is returned. If the regex has groups, a list of tuples of strings is returned.\n",
        "\n"
      ],
      "metadata": {
        "id": "UhFm09sFeuWs"
      },
      "execution_count": null,
      "outputs": []
    },
    {
      "cell_type": "markdown",
      "source": [
        "8. In standard expressions, what does the | character mean?\n"
      ],
      "metadata": {
        "id": "mTf2BA2K79-N"
      }
    },
    {
      "cell_type": "code",
      "source": [
        "# The | character signifies matching “either, or” between two groups."
      ],
      "metadata": {
        "id": "sVLXDwXYt4HY"
      },
      "execution_count": null,
      "outputs": []
    },
    {
      "cell_type": "markdown",
      "source": [
        "9. In regular expressions, what does the character stand for?\n"
      ],
      "metadata": {
        "id": "JtvCtqp47_6r"
      }
    },
    {
      "cell_type": "code",
      "source": [
        "No character is mentioned "
      ],
      "metadata": {
        "id": "rMKqbbAEuYiJ"
      },
      "execution_count": null,
      "outputs": []
    },
    {
      "cell_type": "markdown",
      "source": [
        "10.In regular expressions, what is the difference between the + and * characters?\n"
      ],
      "metadata": {
        "id": "aJc8T6yH8By2"
      }
    },
    {
      "cell_type": "code",
      "source": [
        "+ =  quantifiers 1 or more \n",
        "* = quantifiers 0 or more"
      ],
      "metadata": {
        "id": "zSHDEZqhvQSd"
      },
      "execution_count": null,
      "outputs": []
    },
    {
      "cell_type": "markdown",
      "source": [
        "11. What is the difference between {4} and {4,5} in regular expression?"
      ],
      "metadata": {
        "id": "UdX0Umtk8HSR"
      }
    },
    {
      "cell_type": "code",
      "source": [
        "{4}  = Exact Number \n",
        "{4, 5} = Range of Numbers (Minimum, Maximum)\n"
      ],
      "metadata": {
        "id": "cvCfJBeMpyOA"
      },
      "execution_count": null,
      "outputs": []
    },
    {
      "cell_type": "markdown",
      "source": [
        "12. What do you mean by the \\d, \\w, and \\s shorthand character classes signify in regular expressions?"
      ],
      "metadata": {
        "id": "DMV19Jjk8LkH"
      }
    },
    {
      "cell_type": "code",
      "source": [
        "\\d = Digit(0-9)\n",
        "\\w = Word character (a-z, A-Z, 0-9)\n",
        "\\s = Whitespace(space, tab, newline)"
      ],
      "metadata": {
        "id": "AhQDR3JRpyRS"
      },
      "execution_count": null,
      "outputs": []
    },
    {
      "cell_type": "markdown",
      "source": [
        "13. What do means by \\D, \\W, and \\S shorthand character classes signify in regular expressions?"
      ],
      "metadata": {
        "id": "xELwSvhm8PeZ"
      }
    },
    {
      "cell_type": "code",
      "source": [
        "\\D = Not a Digit(0-9)\n",
        "\\w = Not a Word character \n",
        "\\s =  Not Whitespace(space, tab, newline)"
      ],
      "metadata": {
        "id": "vQq5EBxppyU8"
      },
      "execution_count": null,
      "outputs": []
    },
    {
      "cell_type": "markdown",
      "source": [
        "14. What is the difference between .*? and .*?"
      ],
      "metadata": {
        "id": "kfzmLaJA8ScB"
      }
    },
    {
      "cell_type": "code",
      "source": [
        "#The .* performs a greedy match, and the .*? performs a nongreedy match."
      ],
      "metadata": {
        "id": "xeAB8CxEwF4g"
      },
      "execution_count": null,
      "outputs": []
    },
    {
      "cell_type": "markdown",
      "source": [
        "15. What is the syntax for matching both numbers and lowercase letters with a character class?"
      ],
      "metadata": {
        "id": "7muyKztn8Wgb"
      }
    },
    {
      "cell_type": "code",
      "source": [
        "#Either [0-9a-z] or [a-z0-9]"
      ],
      "metadata": {
        "id": "XkSAmm31wvrt"
      },
      "execution_count": null,
      "outputs": []
    },
    {
      "cell_type": "markdown",
      "source": [
        "16. What is the procedure for making a normal expression in regax case insensitive?"
      ],
      "metadata": {
        "id": "210W2f5z8YkC"
      }
    },
    {
      "cell_type": "code",
      "source": [
        "#Passing re.I or re.IGNORECASE as the second argument to re.compile() will make the matching case insensitive."
      ],
      "metadata": {
        "id": "-U6TxtdBw9a8"
      },
      "execution_count": null,
      "outputs": []
    },
    {
      "cell_type": "markdown",
      "source": [
        "17. What does the . character normally match? What does it match if re.DOTALL is passed as 2nd argument in re.compile()?"
      ],
      "metadata": {
        "id": "BEvcWYMX8au_"
      }
    },
    {
      "cell_type": "code",
      "source": [
        "# The . character normally matches any character except the newline character. If re.DOTALL is passed as the second argument to re.compile(), then the dot will also match newline characters."
      ],
      "metadata": {
        "id": "Rl_xa34XxJ86"
      },
      "execution_count": null,
      "outputs": []
    },
    {
      "cell_type": "markdown",
      "source": [
        "18. If numReg = re.compile(r'\\d+'), what will numRegex.sub('X', '11 drummers, 10 pipers, five rings, 4 hen') return?"
      ],
      "metadata": {
        "id": "oV4wb-uY8ct-"
      }
    },
    {
      "cell_type": "code",
      "source": [
        " 'X drummers, X pipers, five rings, X hens'"
      ],
      "metadata": {
        "id": "sY613eEbxczk"
      },
      "execution_count": null,
      "outputs": []
    },
    {
      "cell_type": "markdown",
      "source": [
        "19. What does passing re.VERBOSE as the 2nd argument to re.compile() allow to do?"
      ],
      "metadata": {
        "id": "-l34CPza8fDs"
      }
    },
    {
      "cell_type": "code",
      "source": [
        "# The re.VERBOSE argument allows you to add whitespace and comments to the string passed to re.compile()"
      ],
      "metadata": {
        "id": "-x2UXYxxxmjq"
      },
      "execution_count": null,
      "outputs": []
    },
    {
      "cell_type": "markdown",
      "source": [
        "20. How would you write a regex that match a number with comma for every three digits? It must match the given following:\n",
        "'42'\n",
        "'1,234'\n",
        "'6,368,745'\n",
        "but not the following:\n",
        "'12,34,567' (which has only two digits between the commas)\n",
        "'1234' (which lacks commas)"
      ],
      "metadata": {
        "id": "ITMVb_YU8hJr"
      }
    },
    {
      "cell_type": "code",
      "source": [
        "# re.compile(r'^\\d{1,3}(,\\d{3})*$') will create this regex, but other regex strings can produce a similar regular expression."
      ],
      "metadata": {
        "id": "nzHV5u7Ex_gS"
      },
      "execution_count": null,
      "outputs": []
    },
    {
      "cell_type": "markdown",
      "source": [
        "21. How would you write a regex that matches the full name of someone whose last name is Watanabe? You can assume that the first name that comes before it will always be one word that begins with a capital letter. The regex must match the following:\n",
        "'Haruto Watanabe'\n",
        "'Alice Watanabe'\n",
        "'RoboCop Watanabe'\n",
        "but not the following:\n",
        "'haruto Watanabe' (where the first name is not capitalized)\n",
        "'Mr. Watanabe' (where the preceding word has a nonletter character)\n",
        "'Watanabe' (which has no first name)\n",
        "'Haruto watanabe' (where Watanabe is not capitalized)"
      ],
      "metadata": {
        "id": "Y4mK3hyO8jzV"
      }
    },
    {
      "cell_type": "code",
      "source": [
        "# re.compile(r'[A-Z][a-z]*\\sNakamoto')"
      ],
      "metadata": {
        "id": "WhImJNfwyMkS"
      },
      "execution_count": null,
      "outputs": []
    },
    {
      "cell_type": "markdown",
      "source": [
        "22. How would you write a regex that matches a sentence where the first word is either Alice, Bob, or Carol; the second word is either eats, pets, or throws; the third word is apples, cats, or baseballs; \n",
        "and the sentence ends with a period? This regex should be case-insensitive. It must match the following:\n",
        "'Alice eats apples.'\n",
        "'Bob pets cats.'\n",
        "'Carol throws baseballs.'\n",
        "'Alice throws Apples.'\n",
        "'BOB EATS CATS.'\n",
        "but not the following:\n",
        "'RoboCop eats apples.'\n",
        "'ALICE THROWS FOOTBALLS.'\n",
        "'Carol eats 7 cats.'"
      ],
      "metadata": {
        "id": "9nX1Nebt8pc4"
      }
    },
    {
      "cell_type": "code",
      "source": [
        "re.compile(r'(Alice|Bob|Carol)\\s(eats|pets|throws)\\s(apples|cats|baseballs).', re.IGNORECASE)"
      ],
      "metadata": {
        "id": "a0kkpQVFyO2V"
      },
      "execution_count": null,
      "outputs": []
    },
    {
      "cell_type": "code",
      "source": [],
      "metadata": {
        "id": "Y_LaHzG8pDui"
      },
      "execution_count": null,
      "outputs": []
    },
    {
      "cell_type": "code",
      "source": [
        "Reference: https://www.realcode4you.com/post/python-interview-questions-and-tutorial-4-get-support-in-python\n",
        "https://www.geeksforgeeks.org/regular-expression-python-examples-set-1/"
      ],
      "metadata": {
        "id": "DewMmQyBpDxy"
      },
      "execution_count": null,
      "outputs": []
    }
  ]
}