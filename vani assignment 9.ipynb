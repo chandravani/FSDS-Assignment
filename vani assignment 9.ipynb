{
  "metadata": {
    "language_info": {
      "codemirror_mode": {
        "name": "python",
        "version": 3
      },
      "file_extension": ".py",
      "mimetype": "text/x-python",
      "name": "python",
      "nbconvert_exporter": "python",
      "pygments_lexer": "ipython3",
      "version": "3.8"
    },
    "kernelspec": {
      "name": "python",
      "display_name": "Python (Pyodide)",
      "language": "python"
    }
  },
  "nbformat_minor": 4,
  "nbformat": 4,
  "cells": [
    {
      "cell_type": "markdown",
      "source": "1. To what does a relative path refer?",
      "metadata": {}
    },
    {
      "cell_type": "code",
      "source": "Relative paths are relative to the current working directory.",
      "metadata": {},
      "execution_count": null,
      "outputs": []
    },
    {
      "cell_type": "markdown",
      "source": "2. What does an absolute path start with your operating system?",
      "metadata": {}
    },
    {
      "cell_type": "code",
      "source": "Absolute paths start with the root folder, such as / or C:. \nAn absolute path always contains the root elements and the complete list of directories to locate the specific file or folder.\nAll the information required to locate the file or folder is available in the absolute path.",
      "metadata": {},
      "execution_count": null,
      "outputs": []
    },
    {
      "cell_type": "markdown",
      "source": "3. What do the functions os.getcwd() and os.chdir() do?",
      "metadata": {}
    },
    {
      "cell_type": "code",
      "source": "The os.getcwd() function returns the current working directory. The os.chdir() function changes the current working directory.",
      "metadata": {},
      "execution_count": null,
      "outputs": []
    },
    {
      "cell_type": "markdown",
      "source": "4. What are the . and .. folders?",
      "metadata": {}
    },
    {
      "cell_type": "code",
      "source": "The . folder is the current folder, and .. is the parent folder.",
      "metadata": {},
      "execution_count": null,
      "outputs": []
    },
    {
      "cell_type": "markdown",
      "source": "5. In C:\\bacon\\eggs\\spam.txt, which part is the dir name, and which part is the base name?",
      "metadata": {}
    },
    {
      "cell_type": "code",
      "source": "C:\\bacon\\eggs is the dir name, while spam.txt is the base name.",
      "metadata": {},
      "execution_count": null,
      "outputs": []
    },
    {
      "cell_type": "markdown",
      "source": "6. What are the three “mode” arguments that can be passed to the open() function?",
      "metadata": {}
    },
    {
      "cell_type": "code",
      "source": "The string 'r' for read mode, 'w' for write mode, and 'a' for append mode",
      "metadata": {},
      "execution_count": null,
      "outputs": []
    },
    {
      "cell_type": "markdown",
      "source": "7. What happens if an existing file is opened in write mode?",
      "metadata": {}
    },
    {
      "cell_type": "code",
      "source": "An existing file opened in write mode is erased and completely overwritten.",
      "metadata": {},
      "execution_count": null,
      "outputs": []
    },
    {
      "cell_type": "markdown",
      "source": "8. How do you tell the difference between read() and readlines()?",
      "metadata": {}
    },
    {
      "cell_type": "code",
      "source": "The read() method returns the file's entire contents as a single string value. \nThe readlines() method returns a list of strings, where each string is a line from the file's contents",
      "metadata": {},
      "execution_count": null,
      "outputs": []
    },
    {
      "cell_type": "markdown",
      "source": "9. What data structure does a shelf value resemble?",
      "metadata": {}
    },
    {
      "cell_type": "code",
      "source": "A shelf value resembles a dictionary value; it has keys and values, along with keys() and values() methods \nthat work similarly to the dictionary methods of the same names.",
      "metadata": {},
      "execution_count": null,
      "outputs": []
    }
  ]
}