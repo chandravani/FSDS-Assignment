{
  "metadata": {
    "colab": {
      "provenance": []
    },
    "kernelspec": {
      "name": "python",
      "display_name": "Python (Pyodide)",
      "language": "python"
    },
    "language_info": {
      "codemirror_mode": {
        "name": "python",
        "version": 3
      },
      "file_extension": ".py",
      "mimetype": "text/x-python",
      "name": "python",
      "nbconvert_exporter": "python",
      "pygments_lexer": "ipython3",
      "version": "3.8"
    }
  },
  "nbformat_minor": 4,
  "nbformat": 4,
  "cells": [
    {
      "cell_type": "markdown",
      "source": "1. How do you distinguish between shutil.copy() and shutil.copytree()?",
      "metadata": {
        "id": "HcrUu507Bgiv"
      }
    },
    {
      "cell_type": "code",
      "source": "shutil.copy() = It  will copy a single file.\nshutil.copytree() = It will copy an entire folder and every folder and file contained in it.",
      "metadata": {
        "id": "2Y0ctxu5B5Jv"
      },
      "execution_count": null,
      "outputs": []
    },
    {
      "cell_type": "markdown",
      "source": "2. What function is used to rename files?",
      "metadata": {
        "id": "OxKJTjXaBgn4"
      }
    },
    {
      "cell_type": "code",
      "source": "shutil.move will rename files.",
      "metadata": {
        "id": "8QpH1i6-CB9y"
      },
      "execution_count": null,
      "outputs": []
    },
    {
      "cell_type": "markdown",
      "source": "3. What is the difference between the delete functions in the send2trash and shutil modules?",
      "metadata": {
        "id": "vpii6KHTBgrT"
      }
    },
    {
      "cell_type": "code",
      "source": " send2trash: send2trash functions will be delete the file temporarily. That file  and folder will be move to the recycle bin.\n shutil modules : Shutil function will permanently delete file and folders in the computer.",
      "metadata": {
        "id": "fJPsek5rCApx"
      },
      "execution_count": null,
      "outputs": []
    },
    {
      "cell_type": "markdown",
      "source": "4. ZipFile objects have a close() method just like File objects’ close() method. What ZipFile method is equivalent to File objects’ open() method?",
      "metadata": {
        "id": "qmGlElkjBgt2"
      }
    },
    {
      "cell_type": "code",
      "source": "ZipFile method is equivalant to File objects' open() method.",
      "metadata": {},
      "execution_count": null,
      "outputs": []
    },
    {
      "cell_type": "markdown",
      "source": "5. Create a programme that searches a folder tree for files with a certain file extension (such as .pdf or .jpg). Copy these files from whatever location they are in to a new folder.",
      "metadata": {
        "id": "DBo_4rjhBgwZ"
      }
    },
    {
      "cell_type": "code",
      "source": "import os, shutil\n\ndef selectiveCopy(folder, extensions, destFolder):\n    folder = os.path.abspath(folder)\n    destFolder = os.path.abspath(destFolder)\n    print('Looking in', folder, 'for files with extensions of', ', '.join(extensions))\n    for foldername, subfolders, filenames in os.walk(folder):\n        for filename in filenames:\n            name, extension = os.path.splitext(filename)\n            if extension in extensions:\n                fileAbsPath = foldername + os.path.sep + filename\n                print('Coping', fileAbsPath, 'to', destFolder)\n                shutil.copy(fileAbsPath, destFolder)\n\nextensions = ['.php', '.py']\nfolder = 'randomFolder'\ndestFolder = 'selectiveFolder'\nselectiveCopy(folder, extensions, destFolder)",
      "metadata": {},
      "execution_count": null,
      "outputs": []
    }
  ]
}