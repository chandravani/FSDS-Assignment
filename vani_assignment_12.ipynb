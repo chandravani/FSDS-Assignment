{
  "nbformat": 4,
  "nbformat_minor": 0,
  "metadata": {
    "colab": {
      "provenance": []
    },
    "kernelspec": {
      "name": "python3",
      "display_name": "Python 3"
    },
    "language_info": {
      "name": "python"
    }
  },
  "cells": [
    {
      "cell_type": "markdown",
      "source": [
        "1. In what modes should the PdfFileReader() and PdfFileWriter() File objects will be opened?"
      ],
      "metadata": {
        "id": "5aIUYAI4h-7p"
      }
    },
    {
      "cell_type": "code",
      "execution_count": null,
      "metadata": {
        "id": "svN0fpsBnr9N"
      },
      "outputs": [],
      "source": [
        "PdfFileReader():\n",
        "rb is used for  reader the file object\n",
        "PdfFileWriter():\n",
        "wb is used for writer the file object\n"
      ]
    },
    {
      "cell_type": "markdown",
      "source": [
        "2. From a PdfFileReader object, how do you get a Page object for page 5?"
      ],
      "metadata": {
        "id": "SWXNbr0WiF-u"
      }
    },
    {
      "cell_type": "code",
      "source": [
        "from a PdfFileReader object we should printing number of pages in pdf file and creating a page object by using\n",
        "getpage(4)\n",
        "  pageobject = PdfFileReader.getpage(4)"
      ],
      "metadata": {
        "id": "t4HHBUC3oZeq"
      },
      "execution_count": null,
      "outputs": []
    },
    {
      "cell_type": "markdown",
      "source": [
        "3. What PdfFileReader variable stores the number of pages in the PDF document?"
      ],
      "metadata": {
        "id": "pfApizD4iLb9"
      }
    },
    {
      "cell_type": "code",
      "source": [
        "with help of getpage() we can stores all the number of pages in the PDF document"
      ],
      "metadata": {
        "id": "L5RFxdf3prc0"
      },
      "execution_count": null,
      "outputs": []
    },
    {
      "cell_type": "markdown",
      "source": [
        "4. If a PdfFileReader object’s PDF is encrypted with the password swordfish, what must you do before you can obtain Page objects from it?\n"
      ],
      "metadata": {
        "id": "nlAVl2GaiQ0o"
      }
    },
    {
      "cell_type": "code",
      "source": [
        "To read an encrypted PDF, call the decrypt() function and pass the password as a string, in our case it is swordfish. After we call decrypt() with the correct password, you’ll see that calling getPage() no longer causes an error. Call decrypt('swordfish')."
      ],
      "metadata": {
        "id": "nRnQZVDZiXtB"
      },
      "execution_count": null,
      "outputs": []
    },
    {
      "cell_type": "markdown",
      "source": [
        "5. What methods do you use to rotate a page?"
      ],
      "metadata": {
        "id": "1PkwUym0iUsm"
      }
    },
    {
      "cell_type": "code",
      "source": [
        "I am  rotating  the page by using  rotateClockwise() method # rotate degree 45degree, 90degree etc."
      ],
      "metadata": {
        "id": "O98twnKHsCMD"
      },
      "execution_count": null,
      "outputs": []
    },
    {
      "cell_type": "markdown",
      "source": [
        "6. What is the difference between a Run object and a Paragraph object?"
      ],
      "metadata": {
        "id": "4GOeaPmRiZhq"
      }
    },
    {
      "cell_type": "code",
      "source": [
        "Run object:\n",
        " A run object is a successive text with the same style.\n",
        " whenever the text style is changed new run object will be appearing.\n",
        "Paragraph object:\n",
        "list of one or more run objects is a paragraph object.\n",
        "user while typing the ENTER key new paragraph will be appearing  in word document.\n"
      ],
      "metadata": {
        "id": "mD26-plJtvrX"
      },
      "execution_count": null,
      "outputs": []
    },
    {
      "cell_type": "markdown",
      "source": [
        "7. How do you obtain a list of Paragraph objects for a Document object that’s stored in a variable named doc?"
      ],
      "metadata": {
        "id": "OjgiR6b2idm9"
      }
    },
    {
      "cell_type": "code",
      "source": [
        "len(doc.paragraphs)"
      ],
      "metadata": {
        "id": "ER3MotA5kE_k"
      },
      "execution_count": null,
      "outputs": []
    },
    {
      "cell_type": "markdown",
      "source": [
        "8. What type of object has bold, underline, italic, strike, and outline variables?"
      ],
      "metadata": {
        "id": "n92vTkNZifXK"
      }
    },
    {
      "cell_type": "code",
      "source": [
        "bold, underline, italic, strike, and outline variables  are run object text attributes.\n",
        "every varibles can set one of three attributes."
      ],
      "metadata": {
        "id": "I4-06DtEyzis"
      },
      "execution_count": null,
      "outputs": []
    },
    {
      "cell_type": "markdown",
      "source": [
        "9. What is the difference between False, True, and None for the bold variable?"
      ],
      "metadata": {
        "id": "rtNR8tuUikEI"
      }
    },
    {
      "cell_type": "code",
      "source": [
        "## style of bold\n",
        "False - The attribute  is always  disabled\n",
        "True- The attribute  is always  enabled\n",
        "None - run style will be set"
      ],
      "metadata": {
        "id": "zHkDq5UH22wc"
      },
      "execution_count": null,
      "outputs": []
    },
    {
      "cell_type": "markdown",
      "source": [
        "10. How do you create a Document object for a new Word document?"
      ],
      "metadata": {
        "id": "89hINJfAio-T"
      }
    },
    {
      "cell_type": "code",
      "source": [
        "mydoc = docx.Document()"
      ],
      "metadata": {
        "id": "sNKR0ooKbJdx"
      },
      "execution_count": null,
      "outputs": []
    },
    {
      "cell_type": "markdown",
      "source": [
        "11. How do you add a paragraph with the text 'Hello, there!' to a Document object stored in a variable named doc?"
      ],
      "metadata": {
        "id": "Wwd7eYXhirc-"
      }
    },
    {
      "cell_type": "code",
      "source": [
        "doc.add_paragraph('Hello, there!')"
      ],
      "metadata": {
        "id": "ZWnlv7i_ivMz"
      },
      "execution_count": null,
      "outputs": []
    },
    {
      "cell_type": "markdown",
      "source": [
        "12. What integers represent the levels of headings available in Word documents?"
      ],
      "metadata": {
        "id": "j9kiNokSixdu"
      }
    },
    {
      "cell_type": "code",
      "source": [
        "integer 0 represent for making title style in the top of documents\n",
        "integer 1 represent for  main heading\n",
        "integer 2 and 3 represent for subheading\n",
        "integer 4 represent for lowest subheading"
      ],
      "metadata": {
        "id": "AJHVzmz65Xyj"
      },
      "execution_count": null,
      "outputs": []
    }
  ]
}